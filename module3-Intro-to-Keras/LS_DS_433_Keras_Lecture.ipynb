{
  "nbformat": 4,
  "nbformat_minor": 0,
  "metadata": {
    "colab": {
      "name": "LS_DS_433_Keras_Lecture.ipynb",
      "version": "0.3.2",
      "provenance": [],
      "collapsed_sections": [],
      "include_colab_link": true
    },
    "kernelspec": {
      "name": "python3",
      "display_name": "Python 3"
    },
    "accelerator": "TPU"
  },
  "cells": [
    {
      "cell_type": "markdown",
      "metadata": {
        "id": "view-in-github",
        "colab_type": "text"
      },
      "source": [
        "<a href=\"https://colab.research.google.com/github/cocoisland/DS-Unit-4-Sprint-3-Neural-Networks/blob/master/module3-Intro-to-Keras/LS_DS_433_Keras_Lecture.ipynb\" target=\"_parent\"><img src=\"https://colab.research.google.com/assets/colab-badge.svg\" alt=\"Open In Colab\"/></a>"
      ]
    },
    {
      "metadata": {
        "id": "HJzTIkYAsLxw",
        "colab_type": "text"
      },
      "cell_type": "markdown",
      "source": [
        "# Lets Use Libraries!\n",
        "\n",
        "The objective of the last two days has been to familiarize you with the fundamentals of neural networks: terminology, structure of networks, forward propagation, error/cost functions, backpropagation, epochs, and gradient descent. We have tried to reinforce these topics by requiring to you code some of the simplest neural networks by hand including Perceptrons (single node neural networks) and Multi-Layer Perceptrons also known as Feed-Forward Neural Networks. Continuing to do things by hand would not be the best use of our limited time. You're ready to graduate from doing things by hand and start using some powerful libraries to build cutting-edge predictive models. "
      ]
    },
    {
      "metadata": {
        "id": "MFYCXc5KdkPE",
        "colab_type": "text"
      },
      "cell_type": "markdown",
      "source": [
        "# Keras\n",
        "\n",
        "> \"Keras is a high-level neural networks API, written in Python and capable of running on top of TensorFlow, CNTK, or Theano. It was developed with a focus on enabling fast experimentation. Being able to go from idea to result with the least possible delay is key to doing good research. Use Keras if you need a deep learning library that:\n",
        "\n",
        "> Allows for easy and fast prototyping (through user friendliness, modularity, and extensibility).\n",
        "Supports both convolutional networks and recurrent networks, as well as combinations of the two.\n",
        "Runs seamlessly on CPU and GPU.\" \n",
        "\n",
        "## Installation\n",
        "\n",
        "The Keras API is particularly straightforward and it already comes pre-installed on Google Colab! \n",
        "\n",
        "<img src=\"http://www.ryanleeallred.com/wp-content/uploads/2019/04/pip-freeze-keras.png\" width=\"300\">\n",
        "\n",
        "If you're not on Google Colab you'll need to install one of the \"backend\" engines that Keras runs on top of. I recommend Tensorflow:\n",
        "\n",
        "> `pip install tensorflow`\n",
        "\n",
        "Google Colab does not have the latest Tensorflow 2.0 installation, so you'll need to upgrade to that if you want to experiment with it. However Tensorflow 2.0 was just released last month and is still in \"alpha\" so if you **really** want to use the latest and greatest be prepared for odd bugs that you don't have control over every once in a while. <https://www.tensorflow.org/install/>"
      ]
    },
    {
      "metadata": {
        "id": "QEncs0SOsFMT",
        "colab_type": "code",
        "colab": {}
      },
      "cell_type": "code",
      "source": [
        "# Use pip freeze to see what packages/libraries your notebook has access to\n",
        "# !pip freeze"
      ],
      "execution_count": 0,
      "outputs": []
    },
    {
      "metadata": {
        "id": "VxgUUpIKn54a",
        "colab_type": "text"
      },
      "cell_type": "markdown",
      "source": [
        "## Our First Keras Model - Perceptron, Batch epochs\n",
        "\n",
        "1) Load Data\n",
        "\n",
        "2) Define Model\n",
        "\n",
        "3) Compile Model\n",
        "\n",
        "4) Fit Model\n",
        "\n",
        "5) Evaluate Model"
      ]
    },
    {
      "metadata": {
        "id": "Md5D67XwqVAf",
        "colab_type": "text"
      },
      "cell_type": "markdown",
      "source": [
        "### Load Data\n",
        "\n",
        "Our life is going to be easier if our data is already cleaned up and numeric, so lets use this dataset from Jason Brownlee that is already numeric and has no column headers so we'll need to slice off the last column of data to act as our y values."
      ]
    },
    {
      "metadata": {
        "id": "bn09phMBpY1J",
        "colab_type": "code",
        "outputId": "a908cc2e-655f-4012-cafd-c73d689b7730",
        "colab": {
          "resources": {
            "http://localhost:8080/nbextensions/google.colab/files.js": {
              "data": "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",
              "ok": true,
              "headers": [
                [
                  "content-type",
                  "application/javascript"
                ]
              ],
              "status": 200,
              "status_text": ""
            }
          },
          "base_uri": "https://localhost:8080/",
          "height": 58
        }
      },
      "cell_type": "code",
      "source": [
        "# https://raw.githubusercontent.com/jbrownlee/Datasets/master/pima-indians-diabetes.data.csv\n",
        "from google.colab import files\n",
        "files.upload()"
      ],
      "execution_count": 2,
      "outputs": [
        {
          "output_type": "display_data",
          "data": {
            "text/html": [
              "\n",
              "     <input type=\"file\" id=\"files-7d06f66b-7da4-4d3d-a752-93930eb7301f\" name=\"files[]\" multiple disabled />\n",
              "     <output id=\"result-7d06f66b-7da4-4d3d-a752-93930eb7301f\">\n",
              "      Upload widget is only available when the cell has been executed in the\n",
              "      current browser session. Please rerun this cell to enable.\n",
              "      </output>\n",
              "      <script src=\"/nbextensions/google.colab/files.js\"></script> "
            ],
            "text/plain": [
              "<IPython.core.display.HTML object>"
            ]
          },
          "metadata": {
            "tags": []
          }
        },
        {
          "output_type": "execute_result",
          "data": {
            "text/plain": [
              "{}"
            ]
          },
          "metadata": {
            "tags": []
          },
          "execution_count": 2
        }
      ]
    },
    {
      "metadata": {
        "id": "DAvlfWrSE94c",
        "colab_type": "code",
        "colab": {
          "base_uri": "https://localhost:8080/",
          "height": 206
        },
        "outputId": "c8671518-4817-49ac-f9af-b8ed410dc84c"
      },
      "cell_type": "code",
      "source": [
        "!wget https://raw.githubusercontent.com/jbrownlee/Datasets/master/pima-indians-diabetes.data.csv\n",
        "\n"
      ],
      "execution_count": 3,
      "outputs": [
        {
          "output_type": "stream",
          "text": [
            "--2019-04-03 21:22:11--  https://raw.githubusercontent.com/jbrownlee/Datasets/master/pima-indians-diabetes.data.csv\n",
            "Resolving raw.githubusercontent.com (raw.githubusercontent.com)... 151.101.0.133, 151.101.64.133, 151.101.128.133, ...\n",
            "Connecting to raw.githubusercontent.com (raw.githubusercontent.com)|151.101.0.133|:443... connected.\n",
            "HTTP request sent, awaiting response... 200 OK\n",
            "Length: 23278 (23K) [text/plain]\n",
            "Saving to: ‘pima-indians-diabetes.data.csv’\n",
            "\n",
            "\r          pima-indi   0%[                    ]       0  --.-KB/s               \rpima-indians-diabet 100%[===================>]  22.73K  --.-KB/s    in 0.01s   \n",
            "\n",
            "2019-04-03 21:22:12 (2.25 MB/s) - ‘pima-indians-diabetes.data.csv’ saved [23278/23278]\n",
            "\n"
          ],
          "name": "stdout"
        }
      ]
    },
    {
      "metadata": {
        "id": "H0g65gYiFQL4",
        "colab_type": "code",
        "colab": {
          "base_uri": "https://localhost:8080/",
          "height": 34
        },
        "outputId": "ce4f6581-06a5-44ac-cfd3-217977f258b1"
      },
      "cell_type": "code",
      "source": [
        "!ls"
      ],
      "execution_count": 5,
      "outputs": [
        {
          "output_type": "stream",
          "text": [
            "pima-indians-diabetes.data.csv\tsample_data\n"
          ],
          "name": "stdout"
        }
      ]
    },
    {
      "metadata": {
        "id": "FKuofD3Pogil",
        "colab_type": "code",
        "outputId": "91831dad-3f1e-42ad-8f74-7faaf87d2775",
        "colab": {
          "base_uri": "https://localhost:8080/",
          "height": 240
        }
      },
      "cell_type": "code",
      "source": [
        "# Load Pima Indians Dataset\n",
        "\n",
        "import numpy\n",
        "\n",
        "dataset = numpy.loadtxt('pima-indians-diabetes.data.csv', delimiter=',')\n",
        "# Split into X and Y variables\n",
        "X = dataset[:,0:8]\n",
        "print(f' X.shape = {X.shape}')\n",
        "print(X[0:5])\n",
        "Y = dataset[:,-1]\n",
        "print(f' Y shape = {Y.shape}')\n",
        "print(Y[:5])"
      ],
      "execution_count": 11,
      "outputs": [
        {
          "output_type": "stream",
          "text": [
            " X.shape = (768, 8)\n",
            "[[6.000e+00 1.480e+02 7.200e+01 3.500e+01 0.000e+00 3.360e+01 6.270e-01\n",
            "  5.000e+01]\n",
            " [1.000e+00 8.500e+01 6.600e+01 2.900e+01 0.000e+00 2.660e+01 3.510e-01\n",
            "  3.100e+01]\n",
            " [8.000e+00 1.830e+02 6.400e+01 0.000e+00 0.000e+00 2.330e+01 6.720e-01\n",
            "  3.200e+01]\n",
            " [1.000e+00 8.900e+01 6.600e+01 2.300e+01 9.400e+01 2.810e+01 1.670e-01\n",
            "  2.100e+01]\n",
            " [0.000e+00 1.370e+02 4.000e+01 3.500e+01 1.680e+02 4.310e+01 2.288e+00\n",
            "  3.300e+01]]\n",
            " Y shape = (768,)\n",
            "[1. 0. 1. 0. 1.]\n"
          ],
          "name": "stdout"
        }
      ]
    },
    {
      "metadata": {
        "id": "o0xMqOyTs5xt",
        "colab_type": "text"
      },
      "cell_type": "markdown",
      "source": [
        "### Define Model"
      ]
    },
    {
      "metadata": {
        "id": "Bp9USczrfu6M",
        "colab_type": "code",
        "outputId": "8e9892dd-c033-421b-925a-9968e1d8149f",
        "colab": {
          "base_uri": "https://localhost:8080/",
          "height": 34
        }
      },
      "cell_type": "code",
      "source": [
        "from keras.models import Sequential\n",
        "from keras.layers import Dense\n",
        "import numpy\n",
        "# fix random seed for reproducibility\n",
        "numpy.random.seed(42)"
      ],
      "execution_count": 13,
      "outputs": [
        {
          "output_type": "stream",
          "text": [
            "Using TensorFlow backend.\n"
          ],
          "name": "stderr"
        }
      ]
    },
    {
      "metadata": {
        "id": "wAzHLg27thoN",
        "colab_type": "text"
      },
      "cell_type": "markdown",
      "source": [
        "I'll instantiate my model as a \"sequential\" model. This just means that I'm going to tell Keras what my model's architecture should be one layer at a time."
      ]
    },
    {
      "metadata": {
        "id": "DSNsL49Xp6KI",
        "colab_type": "code",
        "colab": {}
      },
      "cell_type": "code",
      "source": [
        "# https://keras.io/getting-started/sequential-model-guide/\n",
        "model = Sequential()"
      ],
      "execution_count": 0,
      "outputs": []
    },
    {
      "metadata": {
        "id": "ZCYX6QzJtvpG",
        "colab_type": "text"
      },
      "cell_type": "markdown",
      "source": [
        "Adding a \"Dense\" layer to our model is how we add \"vanilla\" perceptron-based layers to our neural network. These are also called \"fully-connected\" or \"densely-connected\" layers. They're used as a layer type in lots of other Neural Net Architectures but they're not referred to as perceptrons or multi-layer perceptrons very often in those situations even though that's what they are.\n",
        "\n",
        " > [\"Just your regular densely-connected NN layer.\"](https://keras.io/layers/core/)\n",
        " \n",
        " The first argument is how many neurons we want to have in that layer. To create a perceptron model we will just set it to 1. We will tell it that there will be 8 inputs coming into this layer from our dataset and set it to use the sigmoid activation function."
      ]
    },
    {
      "metadata": {
        "id": "GNzOLidxtvFa",
        "colab_type": "code",
        "colab": {
          "base_uri": "https://localhost:8080/",
          "height": 88
        },
        "outputId": "8efbbea9-c50e-47e8-cb1a-b16e4f6972df"
      },
      "cell_type": "code",
      "source": [
        "model.add(Dense(1, input_dim=8, activation=\"sigmoid\"))"
      ],
      "execution_count": 15,
      "outputs": [
        {
          "output_type": "stream",
          "text": [
            "WARNING:tensorflow:From /usr/local/lib/python3.6/dist-packages/tensorflow/python/framework/op_def_library.py:263: colocate_with (from tensorflow.python.framework.ops) is deprecated and will be removed in a future version.\n",
            "Instructions for updating:\n",
            "Colocations handled automatically by placer.\n"
          ],
          "name": "stdout"
        }
      ]
    },
    {
      "metadata": {
        "id": "EnI3jwKMtBL2",
        "colab_type": "text"
      },
      "cell_type": "markdown",
      "source": [
        "### Compile Model\n",
        "Using binary_crossentropy as the loss function here is just telling keras that I'm doing binary classification so that it can use the appropriate loss function accordingly. If we were predicting non-binary categories we might assign something like `categorical_crossentropy`. We're also telling keras that we want it to report model accuracy as our main error metric for each epoch. We will also be able to see the overall accuracy once the model has finished training."
      ]
    },
    {
      "metadata": {
        "id": "qp6xwYaqurRO",
        "colab_type": "code",
        "colab": {}
      },
      "cell_type": "code",
      "source": [
        "model.compile(loss='binary_crossentropy', optimizer='adam', metrics=['accuracy'])"
      ],
      "execution_count": 0,
      "outputs": []
    },
    {
      "metadata": {
        "id": "SiyGzebJFmJ6",
        "colab_type": "code",
        "outputId": "1e2356a8-7502-447e-c303-f46ffa6e320a",
        "colab": {
          "base_uri": "https://localhost:8080/",
          "height": 171
        }
      },
      "cell_type": "code",
      "source": [
        "model.summary()"
      ],
      "execution_count": 17,
      "outputs": [
        {
          "output_type": "stream",
          "text": [
            "_________________________________________________________________\n",
            "Layer (type)                 Output Shape              Param #   \n",
            "=================================================================\n",
            "dense_1 (Dense)              (None, 1)                 9         \n",
            "=================================================================\n",
            "Total params: 9\n",
            "Trainable params: 9\n",
            "Non-trainable params: 0\n",
            "_________________________________________________________________\n"
          ],
          "name": "stdout"
        }
      ]
    },
    {
      "metadata": {
        "id": "5dW8SZ2Ls9SX",
        "colab_type": "text"
      },
      "cell_type": "markdown",
      "source": [
        "### Fit Model\n",
        "\n",
        "Lets train it up! `model.fit()` has a `batch_size` parameter that we can use if we want to do mini-batch epochs, but since this tabular dataset is pretty small we're just going to delete that parameter. Keras' default `batch_size` is `None` so omiting it will tell Keras to do batch epochs. "
      ]
    },
    {
      "metadata": {
        "id": "nJxdmX_-u5MJ",
        "colab_type": "code",
        "outputId": "27b4b725-7879-4a03-df7d-7bd119bfca4f",
        "colab": {
          "base_uri": "https://localhost:8080/",
          "height": 5231
        }
      },
      "cell_type": "code",
      "source": [
        "history = model.fit(X, Y, epochs=150)"
      ],
      "execution_count": 18,
      "outputs": [
        {
          "output_type": "stream",
          "text": [
            "WARNING:tensorflow:From /usr/local/lib/python3.6/dist-packages/tensorflow/python/ops/math_ops.py:3066: to_int32 (from tensorflow.python.ops.math_ops) is deprecated and will be removed in a future version.\n",
            "Instructions for updating:\n",
            "Use tf.cast instead.\n",
            "Epoch 1/150\n",
            "768/768 [==============================] - 1s 824us/step - loss: 9.9175 - acc: 0.3581\n",
            "Epoch 2/150\n",
            "768/768 [==============================] - 0s 51us/step - loss: 9.8752 - acc: 0.3607\n",
            "Epoch 3/150\n",
            "768/768 [==============================] - 0s 33us/step - loss: 9.8456 - acc: 0.3620\n",
            "Epoch 4/150\n",
            "768/768 [==============================] - 0s 44us/step - loss: 9.7710 - acc: 0.3672\n",
            "Epoch 5/150\n",
            "768/768 [==============================] - 0s 42us/step - loss: 9.5615 - acc: 0.3698\n",
            "Epoch 6/150\n",
            "768/768 [==============================] - 0s 42us/step - loss: 9.3552 - acc: 0.3828\n",
            "Epoch 7/150\n",
            "768/768 [==============================] - 0s 39us/step - loss: 9.3009 - acc: 0.3815\n",
            "Epoch 8/150\n",
            "768/768 [==============================] - 0s 37us/step - loss: 9.2864 - acc: 0.3880\n",
            "Epoch 9/150\n",
            "768/768 [==============================] - 0s 45us/step - loss: 9.2862 - acc: 0.3880\n",
            "Epoch 10/150\n",
            "768/768 [==============================] - 0s 36us/step - loss: 9.2805 - acc: 0.3893\n",
            "Epoch 11/150\n",
            "768/768 [==============================] - 0s 36us/step - loss: 9.2808 - acc: 0.3867\n",
            "Epoch 12/150\n",
            "768/768 [==============================] - 0s 61us/step - loss: 9.2720 - acc: 0.3919\n",
            "Epoch 13/150\n",
            "768/768 [==============================] - 0s 36us/step - loss: 9.2642 - acc: 0.3906\n",
            "Epoch 14/150\n",
            "768/768 [==============================] - 0s 38us/step - loss: 9.2640 - acc: 0.3945\n",
            "Epoch 15/150\n",
            "768/768 [==============================] - 0s 36us/step - loss: 9.2446 - acc: 0.3932\n",
            "Epoch 16/150\n",
            "768/768 [==============================] - 0s 35us/step - loss: 9.2295 - acc: 0.3945\n",
            "Epoch 17/150\n",
            "768/768 [==============================] - 0s 45us/step - loss: 9.2172 - acc: 0.3945\n",
            "Epoch 18/150\n",
            "768/768 [==============================] - 0s 40us/step - loss: 9.1996 - acc: 0.3958\n",
            "Epoch 19/150\n",
            "768/768 [==============================] - 0s 38us/step - loss: 9.1673 - acc: 0.3997\n",
            "Epoch 20/150\n",
            "768/768 [==============================] - 0s 42us/step - loss: 9.1206 - acc: 0.3984\n",
            "Epoch 21/150\n",
            "768/768 [==============================] - 0s 41us/step - loss: 9.0548 - acc: 0.4062\n",
            "Epoch 22/150\n",
            "768/768 [==============================] - 0s 44us/step - loss: 8.8953 - acc: 0.4167\n",
            "Epoch 23/150\n",
            "768/768 [==============================] - 0s 43us/step - loss: 8.7252 - acc: 0.4232\n",
            "Epoch 24/150\n",
            "768/768 [==============================] - 0s 38us/step - loss: 8.4791 - acc: 0.4323\n",
            "Epoch 25/150\n",
            "768/768 [==============================] - 0s 48us/step - loss: 8.2397 - acc: 0.4557\n",
            "Epoch 26/150\n",
            "768/768 [==============================] - 0s 40us/step - loss: 8.0073 - acc: 0.4727\n",
            "Epoch 27/150\n",
            "768/768 [==============================] - 0s 43us/step - loss: 7.8108 - acc: 0.4870\n",
            "Epoch 28/150\n",
            "768/768 [==============================] - 0s 38us/step - loss: 7.7196 - acc: 0.4974\n",
            "Epoch 29/150\n",
            "768/768 [==============================] - 0s 37us/step - loss: 7.6374 - acc: 0.5026\n",
            "Epoch 30/150\n",
            "768/768 [==============================] - 0s 34us/step - loss: 7.5803 - acc: 0.5104\n",
            "Epoch 31/150\n",
            "768/768 [==============================] - 0s 34us/step - loss: 7.5274 - acc: 0.5182\n",
            "Epoch 32/150\n",
            "768/768 [==============================] - 0s 40us/step - loss: 7.4762 - acc: 0.5169\n",
            "Epoch 33/150\n",
            "768/768 [==============================] - 0s 40us/step - loss: 7.4222 - acc: 0.5143\n",
            "Epoch 34/150\n",
            "768/768 [==============================] - 0s 44us/step - loss: 7.3834 - acc: 0.5143\n",
            "Epoch 35/150\n",
            "768/768 [==============================] - 0s 36us/step - loss: 7.3542 - acc: 0.5143\n",
            "Epoch 36/150\n",
            "768/768 [==============================] - 0s 39us/step - loss: 7.3222 - acc: 0.5104\n",
            "Epoch 37/150\n",
            "768/768 [==============================] - 0s 41us/step - loss: 7.2007 - acc: 0.5117\n",
            "Epoch 38/150\n",
            "768/768 [==============================] - 0s 43us/step - loss: 6.6690 - acc: 0.5169\n",
            "Epoch 39/150\n",
            "768/768 [==============================] - 0s 37us/step - loss: 5.2623 - acc: 0.5521\n",
            "Epoch 40/150\n",
            "768/768 [==============================] - 0s 33us/step - loss: 4.8471 - acc: 0.5833\n",
            "Epoch 41/150\n",
            "768/768 [==============================] - 0s 37us/step - loss: 4.8101 - acc: 0.5885\n",
            "Epoch 42/150\n",
            "768/768 [==============================] - 0s 37us/step - loss: 4.7539 - acc: 0.5898\n",
            "Epoch 43/150\n",
            "768/768 [==============================] - 0s 40us/step - loss: 4.6986 - acc: 0.5885\n",
            "Epoch 44/150\n",
            "768/768 [==============================] - 0s 38us/step - loss: 4.6364 - acc: 0.5911\n",
            "Epoch 45/150\n",
            "768/768 [==============================] - 0s 43us/step - loss: 4.5841 - acc: 0.5911\n",
            "Epoch 46/150\n",
            "768/768 [==============================] - 0s 40us/step - loss: 4.5204 - acc: 0.5833\n",
            "Epoch 47/150\n",
            "768/768 [==============================] - 0s 36us/step - loss: 4.4304 - acc: 0.5898\n",
            "Epoch 48/150\n",
            "768/768 [==============================] - 0s 39us/step - loss: 4.3408 - acc: 0.5924\n",
            "Epoch 49/150\n",
            "768/768 [==============================] - 0s 40us/step - loss: 4.2546 - acc: 0.5938\n",
            "Epoch 50/150\n",
            "768/768 [==============================] - 0s 35us/step - loss: 4.1517 - acc: 0.5859\n",
            "Epoch 51/150\n",
            "768/768 [==============================] - 0s 34us/step - loss: 4.0471 - acc: 0.5833\n",
            "Epoch 52/150\n",
            "768/768 [==============================] - 0s 36us/step - loss: 3.9333 - acc: 0.5846\n",
            "Epoch 53/150\n",
            "768/768 [==============================] - 0s 41us/step - loss: 3.8270 - acc: 0.5846\n",
            "Epoch 54/150\n",
            "768/768 [==============================] - 0s 42us/step - loss: 3.7179 - acc: 0.5807\n",
            "Epoch 55/150\n",
            "768/768 [==============================] - 0s 36us/step - loss: 3.6142 - acc: 0.5990\n",
            "Epoch 56/150\n",
            "768/768 [==============================] - 0s 42us/step - loss: 3.5147 - acc: 0.5859\n",
            "Epoch 57/150\n",
            "768/768 [==============================] - 0s 43us/step - loss: 3.4356 - acc: 0.5911\n",
            "Epoch 58/150\n",
            "768/768 [==============================] - 0s 38us/step - loss: 3.3504 - acc: 0.6016\n",
            "Epoch 59/150\n",
            "768/768 [==============================] - 0s 38us/step - loss: 3.2800 - acc: 0.5990\n",
            "Epoch 60/150\n",
            "768/768 [==============================] - 0s 37us/step - loss: 3.2240 - acc: 0.6094\n",
            "Epoch 61/150\n",
            "768/768 [==============================] - 0s 32us/step - loss: 3.1790 - acc: 0.6172\n",
            "Epoch 62/150\n",
            "768/768 [==============================] - 0s 44us/step - loss: 3.1452 - acc: 0.6250\n",
            "Epoch 63/150\n",
            "768/768 [==============================] - 0s 36us/step - loss: 3.1174 - acc: 0.6185\n",
            "Epoch 64/150\n",
            "768/768 [==============================] - 0s 36us/step - loss: 3.0908 - acc: 0.6354\n",
            "Epoch 65/150\n",
            "768/768 [==============================] - 0s 35us/step - loss: 3.0842 - acc: 0.6354\n",
            "Epoch 66/150\n",
            "768/768 [==============================] - 0s 39us/step - loss: 3.0659 - acc: 0.6406\n",
            "Epoch 67/150\n",
            "768/768 [==============================] - 0s 38us/step - loss: 3.0586 - acc: 0.6458\n",
            "Epoch 68/150\n",
            "768/768 [==============================] - 0s 40us/step - loss: 3.0519 - acc: 0.6471\n",
            "Epoch 69/150\n",
            "768/768 [==============================] - 0s 47us/step - loss: 3.0466 - acc: 0.6589\n",
            "Epoch 70/150\n",
            "768/768 [==============================] - 0s 38us/step - loss: 3.0409 - acc: 0.6628\n",
            "Epoch 71/150\n",
            "768/768 [==============================] - 0s 39us/step - loss: 3.0397 - acc: 0.6615\n",
            "Epoch 72/150\n",
            "768/768 [==============================] - 0s 33us/step - loss: 3.0401 - acc: 0.6602\n",
            "Epoch 73/150\n",
            "768/768 [==============================] - 0s 37us/step - loss: 3.0324 - acc: 0.6719\n",
            "Epoch 74/150\n",
            "768/768 [==============================] - 0s 39us/step - loss: 3.0347 - acc: 0.6745\n",
            "Epoch 75/150\n",
            "768/768 [==============================] - 0s 35us/step - loss: 3.0328 - acc: 0.6771\n",
            "Epoch 76/150\n",
            "768/768 [==============================] - 0s 35us/step - loss: 3.0324 - acc: 0.6771\n",
            "Epoch 77/150\n",
            "768/768 [==============================] - 0s 35us/step - loss: 3.0325 - acc: 0.6784\n",
            "Epoch 78/150\n",
            "768/768 [==============================] - 0s 36us/step - loss: 3.0335 - acc: 0.6628\n",
            "Epoch 79/150\n",
            "768/768 [==============================] - 0s 35us/step - loss: 3.0244 - acc: 0.6641\n",
            "Epoch 80/150\n",
            "768/768 [==============================] - 0s 37us/step - loss: 3.0238 - acc: 0.6758\n",
            "Epoch 81/150\n",
            "768/768 [==============================] - 0s 35us/step - loss: 3.0250 - acc: 0.6771\n",
            "Epoch 82/150\n",
            "768/768 [==============================] - 0s 32us/step - loss: 3.0231 - acc: 0.6745\n",
            "Epoch 83/150\n",
            "768/768 [==============================] - 0s 40us/step - loss: 3.0213 - acc: 0.6797\n",
            "Epoch 84/150\n",
            "768/768 [==============================] - 0s 36us/step - loss: 3.0252 - acc: 0.6745\n",
            "Epoch 85/150\n",
            "768/768 [==============================] - 0s 36us/step - loss: 3.0266 - acc: 0.6758\n",
            "Epoch 86/150\n",
            "768/768 [==============================] - 0s 41us/step - loss: 3.0191 - acc: 0.6836\n",
            "Epoch 87/150\n",
            "768/768 [==============================] - 0s 36us/step - loss: 3.0215 - acc: 0.6745\n",
            "Epoch 88/150\n",
            "768/768 [==============================] - 0s 36us/step - loss: 3.0202 - acc: 0.6888\n",
            "Epoch 89/150\n",
            "768/768 [==============================] - 0s 36us/step - loss: 3.0187 - acc: 0.6758\n",
            "Epoch 90/150\n",
            "768/768 [==============================] - 0s 36us/step - loss: 3.0173 - acc: 0.6875\n",
            "Epoch 91/150\n",
            "768/768 [==============================] - 0s 41us/step - loss: 3.0195 - acc: 0.6849\n",
            "Epoch 92/150\n",
            "768/768 [==============================] - 0s 35us/step - loss: 3.0200 - acc: 0.6849\n",
            "Epoch 93/150\n",
            "768/768 [==============================] - 0s 36us/step - loss: 3.0182 - acc: 0.6784\n",
            "Epoch 94/150\n",
            "768/768 [==============================] - 0s 34us/step - loss: 3.0174 - acc: 0.6836\n",
            "Epoch 95/150\n",
            "768/768 [==============================] - 0s 36us/step - loss: 3.0165 - acc: 0.6836\n",
            "Epoch 96/150\n",
            "768/768 [==============================] - 0s 35us/step - loss: 3.0212 - acc: 0.6849\n",
            "Epoch 97/150\n",
            "768/768 [==============================] - 0s 34us/step - loss: 3.0183 - acc: 0.6888\n",
            "Epoch 98/150\n",
            "768/768 [==============================] - 0s 31us/step - loss: 3.0144 - acc: 0.6862\n",
            "Epoch 99/150\n",
            "768/768 [==============================] - 0s 36us/step - loss: 3.0156 - acc: 0.6810\n",
            "Epoch 100/150\n",
            "768/768 [==============================] - 0s 38us/step - loss: 3.0155 - acc: 0.6875\n",
            "Epoch 101/150\n",
            "768/768 [==============================] - 0s 38us/step - loss: 3.0169 - acc: 0.6797\n",
            "Epoch 102/150\n",
            "768/768 [==============================] - 0s 35us/step - loss: 3.0150 - acc: 0.6849\n",
            "Epoch 103/150\n",
            "768/768 [==============================] - 0s 36us/step - loss: 3.0145 - acc: 0.6849\n",
            "Epoch 104/150\n",
            "768/768 [==============================] - 0s 36us/step - loss: 3.0134 - acc: 0.6810\n",
            "Epoch 105/150\n",
            "768/768 [==============================] - 0s 36us/step - loss: 3.0144 - acc: 0.6888\n",
            "Epoch 106/150\n",
            "768/768 [==============================] - 0s 37us/step - loss: 3.0133 - acc: 0.6862\n",
            "Epoch 107/150\n",
            "768/768 [==============================] - 0s 40us/step - loss: 3.0130 - acc: 0.6862\n",
            "Epoch 108/150\n",
            "768/768 [==============================] - 0s 41us/step - loss: 3.0194 - acc: 0.6784\n",
            "Epoch 109/150\n",
            "768/768 [==============================] - 0s 35us/step - loss: 3.0150 - acc: 0.6914\n",
            "Epoch 110/150\n",
            "768/768 [==============================] - 0s 37us/step - loss: 3.0139 - acc: 0.6810\n",
            "Epoch 111/150\n",
            "768/768 [==============================] - 0s 34us/step - loss: 3.0154 - acc: 0.6888\n",
            "Epoch 112/150\n",
            "768/768 [==============================] - 0s 34us/step - loss: 3.0161 - acc: 0.6836\n",
            "Epoch 113/150\n",
            "768/768 [==============================] - 0s 39us/step - loss: 3.0158 - acc: 0.6758\n",
            "Epoch 114/150\n",
            "768/768 [==============================] - 0s 36us/step - loss: 3.0135 - acc: 0.6888\n",
            "Epoch 115/150\n",
            "768/768 [==============================] - 0s 34us/step - loss: 3.0153 - acc: 0.6927\n",
            "Epoch 116/150\n",
            "768/768 [==============================] - 0s 34us/step - loss: 3.0133 - acc: 0.6927\n",
            "Epoch 117/150\n",
            "768/768 [==============================] - 0s 38us/step - loss: 3.0162 - acc: 0.6823\n",
            "Epoch 118/150\n",
            "768/768 [==============================] - 0s 35us/step - loss: 3.0303 - acc: 0.6602\n",
            "Epoch 119/150\n",
            "768/768 [==============================] - 0s 36us/step - loss: 3.0197 - acc: 0.6862\n",
            "Epoch 120/150\n",
            "768/768 [==============================] - 0s 37us/step - loss: 3.0127 - acc: 0.6862\n",
            "Epoch 121/150\n",
            "768/768 [==============================] - 0s 36us/step - loss: 3.0101 - acc: 0.6901\n",
            "Epoch 122/150\n",
            "768/768 [==============================] - 0s 34us/step - loss: 3.0155 - acc: 0.6849\n",
            "Epoch 123/150\n",
            "768/768 [==============================] - 0s 35us/step - loss: 3.0135 - acc: 0.6927\n",
            "Epoch 124/150\n",
            "768/768 [==============================] - 0s 39us/step - loss: 3.0101 - acc: 0.6823\n",
            "Epoch 125/150\n",
            "768/768 [==============================] - 0s 34us/step - loss: 3.0120 - acc: 0.6901\n",
            "Epoch 126/150\n",
            "768/768 [==============================] - 0s 35us/step - loss: 3.0114 - acc: 0.6927\n",
            "Epoch 127/150\n",
            "768/768 [==============================] - 0s 36us/step - loss: 3.0140 - acc: 0.6836\n",
            "Epoch 128/150\n",
            "768/768 [==============================] - 0s 41us/step - loss: 3.0120 - acc: 0.6810\n",
            "Epoch 129/150\n",
            "768/768 [==============================] - 0s 36us/step - loss: 3.0104 - acc: 0.6914\n",
            "Epoch 130/150\n",
            "768/768 [==============================] - 0s 34us/step - loss: 3.0110 - acc: 0.6849\n",
            "Epoch 131/150\n",
            "768/768 [==============================] - 0s 36us/step - loss: 3.0108 - acc: 0.6862\n",
            "Epoch 132/150\n",
            "768/768 [==============================] - 0s 41us/step - loss: 3.0141 - acc: 0.6810\n",
            "Epoch 133/150\n",
            "768/768 [==============================] - 0s 38us/step - loss: 3.0094 - acc: 0.6966\n",
            "Epoch 134/150\n",
            "768/768 [==============================] - 0s 37us/step - loss: 3.0105 - acc: 0.6836\n",
            "Epoch 135/150\n",
            "768/768 [==============================] - 0s 36us/step - loss: 3.0112 - acc: 0.6927\n",
            "Epoch 136/150\n",
            "768/768 [==============================] - 0s 83us/step - loss: 3.0108 - acc: 0.6849\n",
            "Epoch 137/150\n",
            "768/768 [==============================] - 0s 34us/step - loss: 3.0098 - acc: 0.6914\n",
            "Epoch 138/150\n",
            "768/768 [==============================] - 0s 36us/step - loss: 3.0119 - acc: 0.6784\n",
            "Epoch 139/150\n",
            "768/768 [==============================] - 0s 36us/step - loss: 3.0102 - acc: 0.6914\n",
            "Epoch 140/150\n",
            "768/768 [==============================] - 0s 35us/step - loss: 3.0092 - acc: 0.6953\n",
            "Epoch 141/150\n",
            "768/768 [==============================] - 0s 35us/step - loss: 3.0110 - acc: 0.6875\n",
            "Epoch 142/150\n",
            "768/768 [==============================] - 0s 37us/step - loss: 3.0072 - acc: 0.6901\n",
            "Epoch 143/150\n",
            "768/768 [==============================] - 0s 33us/step - loss: 3.0098 - acc: 0.6836\n",
            "Epoch 144/150\n",
            "768/768 [==============================] - 0s 35us/step - loss: 3.0068 - acc: 0.6953\n",
            "Epoch 145/150\n",
            "768/768 [==============================] - 0s 38us/step - loss: 3.0117 - acc: 0.6862\n",
            "Epoch 146/150\n",
            "768/768 [==============================] - 0s 32us/step - loss: 3.0138 - acc: 0.6875\n",
            "Epoch 147/150\n",
            "768/768 [==============================] - 0s 39us/step - loss: 3.0142 - acc: 0.6823\n",
            "Epoch 148/150\n",
            "768/768 [==============================] - 0s 38us/step - loss: 3.0109 - acc: 0.6888\n",
            "Epoch 149/150\n",
            "768/768 [==============================] - 0s 33us/step - loss: 3.0066 - acc: 0.6901\n",
            "Epoch 150/150\n",
            "768/768 [==============================] - 0s 37us/step - loss: 3.0106 - acc: 0.6836\n"
          ],
          "name": "stdout"
        }
      ]
    },
    {
      "metadata": {
        "id": "BSybwWEJtGFm",
        "colab_type": "text"
      },
      "cell_type": "markdown",
      "source": [
        "### Evaluate Model"
      ]
    },
    {
      "metadata": {
        "id": "34wh8z9MvFMp",
        "colab_type": "code",
        "outputId": "2767d6b3-834e-4b8c-e7c6-6cf552b3f80a",
        "colab": {
          "base_uri": "https://localhost:8080/",
          "height": 51
        }
      },
      "cell_type": "code",
      "source": [
        "scores = model.evaluate(X, Y)\n",
        "print(f\"{model.metrics_names[1]}: {scores[1]*100}\")"
      ],
      "execution_count": 19,
      "outputs": [
        {
          "output_type": "stream",
          "text": [
            "768/768 [==============================] - 0s 59us/step\n",
            "acc: 69.27083333333334\n"
          ],
          "name": "stdout"
        }
      ]
    },
    {
      "metadata": {
        "id": "Istg3HxnDGVy",
        "colab_type": "code",
        "outputId": "b2957f37-deec-483e-819b-4a49ec70f88c",
        "colab": {
          "base_uri": "https://localhost:8080/",
          "height": 347
        }
      },
      "cell_type": "code",
      "source": [
        "import matplotlib.pyplot as plt\n",
        "training_loss = history.history['loss']\n",
        "epoch_count = range(1, len(training_loss) + 1)\n",
        "\n",
        "plt.plot(epoch_count, training_loss, 'r--')\n",
        "plt.show();"
      ],
      "execution_count": 20,
      "outputs": [
        {
          "output_type": "display_data",
          "data": {
            "image/png": "[encoded data removed]",
            "text/plain": [
              "<Figure size 576x396 with 1 Axes>"
            ]
          },
          "metadata": {
            "tags": []
          }
        }
      ]
    },
    {
      "metadata": {
        "id": "tuOA7d4IGbG_",
        "colab_type": "code",
        "outputId": "cba02b5b-e443-4331-e649-99c960cff882",
        "colab": {
          "base_uri": "https://localhost:8080/",
          "height": 347
        }
      },
      "cell_type": "code",
      "source": [
        "training_accuracy = history.history['acc']\n",
        "epoch_count = range(1, len(training_accuracy) + 1)\n",
        "\n",
        "plt.plot(epoch_count, training_accuracy, 'r--')\n",
        "plt.show();"
      ],
      "execution_count": 21,
      "outputs": [
        {
          "output_type": "display_data",
          "data": {
            "image/png": "[encoded data removed]",
            "text/plain": [
              "<Figure size 576x396 with 1 Axes>"
            ]
          },
          "metadata": {
            "tags": []
          }
        }
      ]
    },
    {
      "metadata": {
        "id": "C724P0eFFf2f",
        "colab_type": "code",
        "colab": {}
      },
      "cell_type": "code",
      "source": [
        "# dir(history)"
      ],
      "execution_count": 0,
      "outputs": []
    },
    {
      "metadata": {
        "id": "AIJoRBxHy27n",
        "colab_type": "text"
      },
      "cell_type": "markdown",
      "source": [
        "# Keras Perceptron Model in 4 lines of code:"
      ]
    },
    {
      "metadata": {
        "id": "TQxyONqKvFxB",
        "colab_type": "code",
        "outputId": "83d087c5-5192-4a95-a33e-85db71bf370e",
        "colab": {
          "base_uri": "https://localhost:8080/",
          "height": 5177
        }
      },
      "cell_type": "code",
      "source": [
        "model = Sequential()\n",
        "model.add(Dense(1, input_dim=8, activation='sigmoid'))\n",
        "model.compile(loss='binary_crossentropy', optimizer='adam', metrics=['accuracy'])\n",
        "model.fit(X, Y, epochs=150)"
      ],
      "execution_count": 22,
      "outputs": [
        {
          "output_type": "stream",
          "text": [
            "Epoch 1/150\n",
            "768/768 [==============================] - 0s 221us/step - loss: 5.1965 - acc: 0.6393\n",
            "Epoch 2/150\n",
            "768/768 [==============================] - 0s 36us/step - loss: 5.1533 - acc: 0.6432\n",
            "Epoch 3/150\n",
            "768/768 [==============================] - 0s 40us/step - loss: 5.1573 - acc: 0.6445\n",
            "Epoch 4/150\n",
            "768/768 [==============================] - 0s 40us/step - loss: 5.1393 - acc: 0.6458\n",
            "Epoch 5/150\n",
            "768/768 [==============================] - 0s 35us/step - loss: 5.1395 - acc: 0.6393\n",
            "Epoch 6/150\n",
            "768/768 [==============================] - 0s 34us/step - loss: 5.1281 - acc: 0.6406\n",
            "Epoch 7/150\n",
            "768/768 [==============================] - 0s 48us/step - loss: 5.1188 - acc: 0.6419\n",
            "Epoch 8/150\n",
            "768/768 [==============================] - 0s 36us/step - loss: 5.1111 - acc: 0.6432\n",
            "Epoch 9/150\n",
            "768/768 [==============================] - 0s 41us/step - loss: 5.1013 - acc: 0.6445\n",
            "Epoch 10/150\n",
            "768/768 [==============================] - 0s 38us/step - loss: 5.0940 - acc: 0.6432\n",
            "Epoch 11/150\n",
            "768/768 [==============================] - 0s 38us/step - loss: 5.0868 - acc: 0.6445\n",
            "Epoch 12/150\n",
            "768/768 [==============================] - 0s 37us/step - loss: 5.0645 - acc: 0.6406\n",
            "Epoch 13/150\n",
            "768/768 [==============================] - 0s 37us/step - loss: 5.0607 - acc: 0.6406\n",
            "Epoch 14/150\n",
            "768/768 [==============================] - 0s 37us/step - loss: 5.0483 - acc: 0.6393\n",
            "Epoch 15/150\n",
            "768/768 [==============================] - 0s 38us/step - loss: 5.0438 - acc: 0.6419\n",
            "Epoch 16/150\n",
            "768/768 [==============================] - 0s 36us/step - loss: 5.0211 - acc: 0.6419\n",
            "Epoch 17/150\n",
            "768/768 [==============================] - 0s 36us/step - loss: 5.0042 - acc: 0.6419\n",
            "Epoch 18/150\n",
            "768/768 [==============================] - 0s 39us/step - loss: 4.9960 - acc: 0.6432\n",
            "Epoch 19/150\n",
            "768/768 [==============================] - 0s 37us/step - loss: 4.9882 - acc: 0.6393\n",
            "Epoch 20/150\n",
            "768/768 [==============================] - 0s 34us/step - loss: 4.9559 - acc: 0.6393\n",
            "Epoch 21/150\n",
            "768/768 [==============================] - 0s 37us/step - loss: 4.9411 - acc: 0.6406\n",
            "Epoch 22/150\n",
            "768/768 [==============================] - 0s 39us/step - loss: 4.9269 - acc: 0.6432\n",
            "Epoch 23/150\n",
            "768/768 [==============================] - 0s 38us/step - loss: 4.9333 - acc: 0.6393\n",
            "Epoch 24/150\n",
            "768/768 [==============================] - 0s 34us/step - loss: 4.8970 - acc: 0.6419\n",
            "Epoch 25/150\n",
            "768/768 [==============================] - 0s 40us/step - loss: 4.8776 - acc: 0.6419\n",
            "Epoch 26/150\n",
            "768/768 [==============================] - 0s 34us/step - loss: 4.8544 - acc: 0.6419\n",
            "Epoch 27/150\n",
            "768/768 [==============================] - 0s 35us/step - loss: 4.8358 - acc: 0.6432\n",
            "Epoch 28/150\n",
            "768/768 [==============================] - 0s 36us/step - loss: 4.8135 - acc: 0.6419\n",
            "Epoch 29/150\n",
            "768/768 [==============================] - 0s 38us/step - loss: 4.7873 - acc: 0.6419\n",
            "Epoch 30/150\n",
            "768/768 [==============================] - 0s 35us/step - loss: 4.7853 - acc: 0.6445\n",
            "Epoch 31/150\n",
            "768/768 [==============================] - 0s 36us/step - loss: 4.7521 - acc: 0.6458\n",
            "Epoch 32/150\n",
            "768/768 [==============================] - 0s 34us/step - loss: 4.7159 - acc: 0.6419\n",
            "Epoch 33/150\n",
            "768/768 [==============================] - 0s 38us/step - loss: 4.6839 - acc: 0.6419\n",
            "Epoch 34/150\n",
            "768/768 [==============================] - 0s 34us/step - loss: 4.6165 - acc: 0.6419\n",
            "Epoch 35/150\n",
            "768/768 [==============================] - 0s 35us/step - loss: 4.5104 - acc: 0.6471\n",
            "Epoch 36/150\n",
            "768/768 [==============================] - 0s 34us/step - loss: 4.3198 - acc: 0.6367\n",
            "Epoch 37/150\n",
            "768/768 [==============================] - 0s 37us/step - loss: 4.0908 - acc: 0.6042\n",
            "Epoch 38/150\n",
            "768/768 [==============================] - 0s 40us/step - loss: 3.8221 - acc: 0.5872\n",
            "Epoch 39/150\n",
            "768/768 [==============================] - 0s 35us/step - loss: 3.5983 - acc: 0.5729\n",
            "Epoch 40/150\n",
            "768/768 [==============================] - 0s 35us/step - loss: 3.4498 - acc: 0.5872\n",
            "Epoch 41/150\n",
            "768/768 [==============================] - 0s 37us/step - loss: 3.3366 - acc: 0.6042\n",
            "Epoch 42/150\n",
            "768/768 [==============================] - 0s 38us/step - loss: 3.2416 - acc: 0.6081\n",
            "Epoch 43/150\n",
            "768/768 [==============================] - 0s 52us/step - loss: 3.1400 - acc: 0.6081\n",
            "Epoch 44/150\n",
            "768/768 [==============================] - 0s 62us/step - loss: 3.0593 - acc: 0.6159\n",
            "Epoch 45/150\n",
            "768/768 [==============================] - 0s 39us/step - loss: 2.9622 - acc: 0.6211\n",
            "Epoch 46/150\n",
            "768/768 [==============================] - 0s 46us/step - loss: 2.8629 - acc: 0.6198\n",
            "Epoch 47/150\n",
            "768/768 [==============================] - 0s 38us/step - loss: 2.7508 - acc: 0.6211\n",
            "Epoch 48/150\n",
            "768/768 [==============================] - 0s 39us/step - loss: 2.6227 - acc: 0.6237\n",
            "Epoch 49/150\n",
            "768/768 [==============================] - 0s 39us/step - loss: 2.5151 - acc: 0.6276\n",
            "Epoch 50/150\n",
            "768/768 [==============================] - 0s 39us/step - loss: 2.3967 - acc: 0.6198\n",
            "Epoch 51/150\n",
            "768/768 [==============================] - 0s 39us/step - loss: 2.2583 - acc: 0.6237\n",
            "Epoch 52/150\n",
            "768/768 [==============================] - 0s 42us/step - loss: 2.1218 - acc: 0.6263\n",
            "Epoch 53/150\n",
            "768/768 [==============================] - 0s 36us/step - loss: 1.9792 - acc: 0.6211\n",
            "Epoch 54/150\n",
            "768/768 [==============================] - 0s 41us/step - loss: 1.8430 - acc: 0.6302\n",
            "Epoch 55/150\n",
            "768/768 [==============================] - 0s 36us/step - loss: 1.7253 - acc: 0.6211\n",
            "Epoch 56/150\n",
            "768/768 [==============================] - 0s 39us/step - loss: 1.5731 - acc: 0.6185\n",
            "Epoch 57/150\n",
            "768/768 [==============================] - 0s 38us/step - loss: 1.4602 - acc: 0.6276\n",
            "Epoch 58/150\n",
            "768/768 [==============================] - 0s 37us/step - loss: 1.3384 - acc: 0.6146\n",
            "Epoch 59/150\n",
            "768/768 [==============================] - 0s 40us/step - loss: 1.2288 - acc: 0.6380\n",
            "Epoch 60/150\n",
            "768/768 [==============================] - 0s 37us/step - loss: 1.1613 - acc: 0.6302\n",
            "Epoch 61/150\n",
            "768/768 [==============================] - 0s 36us/step - loss: 1.0774 - acc: 0.6419\n",
            "Epoch 62/150\n",
            "768/768 [==============================] - 0s 36us/step - loss: 0.9906 - acc: 0.6393\n",
            "Epoch 63/150\n",
            "768/768 [==============================] - 0s 37us/step - loss: 0.9304 - acc: 0.6432\n",
            "Epoch 64/150\n",
            "768/768 [==============================] - 0s 38us/step - loss: 0.8824 - acc: 0.6393\n",
            "Epoch 65/150\n",
            "768/768 [==============================] - 0s 33us/step - loss: 0.8369 - acc: 0.6484\n",
            "Epoch 66/150\n",
            "768/768 [==============================] - 0s 36us/step - loss: 0.8097 - acc: 0.6445\n",
            "Epoch 67/150\n",
            "768/768 [==============================] - 0s 35us/step - loss: 0.7862 - acc: 0.6549\n",
            "Epoch 68/150\n",
            "768/768 [==============================] - 0s 37us/step - loss: 0.7586 - acc: 0.6549\n",
            "Epoch 69/150\n",
            "768/768 [==============================] - 0s 37us/step - loss: 0.7334 - acc: 0.6667\n",
            "Epoch 70/150\n",
            "768/768 [==============================] - 0s 36us/step - loss: 0.7240 - acc: 0.6745\n",
            "Epoch 71/150\n",
            "768/768 [==============================] - 0s 35us/step - loss: 0.7273 - acc: 0.6536\n",
            "Epoch 72/150\n",
            "768/768 [==============================] - 0s 37us/step - loss: 0.7003 - acc: 0.6680\n",
            "Epoch 73/150\n",
            "768/768 [==============================] - 0s 39us/step - loss: 0.6988 - acc: 0.6706\n",
            "Epoch 74/150\n",
            "768/768 [==============================] - 0s 38us/step - loss: 0.6875 - acc: 0.6784\n",
            "Epoch 75/150\n",
            "768/768 [==============================] - 0s 36us/step - loss: 0.6753 - acc: 0.6888\n",
            "Epoch 76/150\n",
            "768/768 [==============================] - 0s 36us/step - loss: 0.6725 - acc: 0.6849\n",
            "Epoch 77/150\n",
            "768/768 [==============================] - 0s 35us/step - loss: 0.6794 - acc: 0.6693\n",
            "Epoch 78/150\n",
            "768/768 [==============================] - 0s 35us/step - loss: 0.6555 - acc: 0.6901\n",
            "Epoch 79/150\n",
            "768/768 [==============================] - 0s 35us/step - loss: 0.6558 - acc: 0.6888\n",
            "Epoch 80/150\n",
            "768/768 [==============================] - 0s 43us/step - loss: 0.6512 - acc: 0.6901\n",
            "Epoch 81/150\n",
            "768/768 [==============================] - 0s 35us/step - loss: 0.6498 - acc: 0.6901\n",
            "Epoch 82/150\n",
            "768/768 [==============================] - 0s 35us/step - loss: 0.6542 - acc: 0.6966\n",
            "Epoch 83/150\n",
            "768/768 [==============================] - 0s 35us/step - loss: 0.6433 - acc: 0.7083\n",
            "Epoch 84/150\n",
            "768/768 [==============================] - 0s 36us/step - loss: 0.6467 - acc: 0.6927\n",
            "Epoch 85/150\n",
            "768/768 [==============================] - 0s 34us/step - loss: 0.6358 - acc: 0.6862\n",
            "Epoch 86/150\n",
            "768/768 [==============================] - 0s 33us/step - loss: 0.6321 - acc: 0.7018\n",
            "Epoch 87/150\n",
            "768/768 [==============================] - 0s 35us/step - loss: 0.6304 - acc: 0.6979\n",
            "Epoch 88/150\n",
            "768/768 [==============================] - 0s 33us/step - loss: 0.6283 - acc: 0.7018\n",
            "Epoch 89/150\n",
            "768/768 [==============================] - 0s 41us/step - loss: 0.6265 - acc: 0.6940\n",
            "Epoch 90/150\n",
            "768/768 [==============================] - 0s 34us/step - loss: 0.6191 - acc: 0.7148\n",
            "Epoch 91/150\n",
            "768/768 [==============================] - 0s 36us/step - loss: 0.6218 - acc: 0.7005\n",
            "Epoch 92/150\n",
            "768/768 [==============================] - 0s 34us/step - loss: 0.6187 - acc: 0.6992\n",
            "Epoch 93/150\n",
            "768/768 [==============================] - 0s 35us/step - loss: 0.6161 - acc: 0.7005\n",
            "Epoch 94/150\n",
            "768/768 [==============================] - 0s 37us/step - loss: 0.6172 - acc: 0.6940\n",
            "Epoch 95/150\n",
            "768/768 [==============================] - 0s 36us/step - loss: 0.6198 - acc: 0.6901\n",
            "Epoch 96/150\n",
            "768/768 [==============================] - 0s 36us/step - loss: 0.6178 - acc: 0.7005\n",
            "Epoch 97/150\n",
            "768/768 [==============================] - 0s 36us/step - loss: 0.6137 - acc: 0.7005\n",
            "Epoch 98/150\n",
            "768/768 [==============================] - 0s 35us/step - loss: 0.6220 - acc: 0.7031\n",
            "Epoch 99/150\n",
            "768/768 [==============================] - 0s 36us/step - loss: 0.6118 - acc: 0.7070\n",
            "Epoch 100/150\n",
            "768/768 [==============================] - 0s 34us/step - loss: 0.6100 - acc: 0.7070\n",
            "Epoch 101/150\n",
            "768/768 [==============================] - 0s 39us/step - loss: 0.6060 - acc: 0.7018\n",
            "Epoch 102/150\n",
            "768/768 [==============================] - 0s 39us/step - loss: 0.6060 - acc: 0.7057\n",
            "Epoch 103/150\n",
            "768/768 [==============================] - 0s 38us/step - loss: 0.6170 - acc: 0.6901\n",
            "Epoch 104/150\n",
            "768/768 [==============================] - 0s 43us/step - loss: 0.6048 - acc: 0.7031\n",
            "Epoch 105/150\n",
            "768/768 [==============================] - 0s 51us/step - loss: 0.6070 - acc: 0.7044\n",
            "Epoch 106/150\n",
            "768/768 [==============================] - 0s 47us/step - loss: 0.6121 - acc: 0.6927\n",
            "Epoch 107/150\n",
            "768/768 [==============================] - 0s 44us/step - loss: 0.6051 - acc: 0.6940\n",
            "Epoch 108/150\n",
            "768/768 [==============================] - 0s 36us/step - loss: 0.6117 - acc: 0.6979\n",
            "Epoch 109/150\n",
            "768/768 [==============================] - 0s 36us/step - loss: 0.6045 - acc: 0.6966\n",
            "Epoch 110/150\n",
            "768/768 [==============================] - 0s 37us/step - loss: 0.6026 - acc: 0.6927\n",
            "Epoch 111/150\n",
            "768/768 [==============================] - 0s 38us/step - loss: 0.6005 - acc: 0.7174\n",
            "Epoch 112/150\n",
            "768/768 [==============================] - 0s 37us/step - loss: 0.5990 - acc: 0.7070\n",
            "Epoch 113/150\n",
            "768/768 [==============================] - 0s 36us/step - loss: 0.6028 - acc: 0.6979\n",
            "Epoch 114/150\n",
            "768/768 [==============================] - 0s 38us/step - loss: 0.6040 - acc: 0.7018\n",
            "Epoch 115/150\n",
            "768/768 [==============================] - 0s 37us/step - loss: 0.6035 - acc: 0.6901\n",
            "Epoch 116/150\n",
            "768/768 [==============================] - 0s 36us/step - loss: 0.5959 - acc: 0.7096\n",
            "Epoch 117/150\n",
            "768/768 [==============================] - 0s 37us/step - loss: 0.5965 - acc: 0.6966\n",
            "Epoch 118/150\n",
            "768/768 [==============================] - 0s 35us/step - loss: 0.6043 - acc: 0.7188\n",
            "Epoch 119/150\n",
            "768/768 [==============================] - 0s 35us/step - loss: 0.5969 - acc: 0.7018\n",
            "Epoch 120/150\n",
            "768/768 [==============================] - 0s 37us/step - loss: 0.6058 - acc: 0.6979\n",
            "Epoch 121/150\n",
            "768/768 [==============================] - 0s 36us/step - loss: 0.6000 - acc: 0.7096\n",
            "Epoch 122/150\n",
            "768/768 [==============================] - 0s 36us/step - loss: 0.5985 - acc: 0.7005\n",
            "Epoch 123/150\n",
            "768/768 [==============================] - 0s 33us/step - loss: 0.6084 - acc: 0.6836\n",
            "Epoch 124/150\n",
            "768/768 [==============================] - 0s 35us/step - loss: 0.6005 - acc: 0.7044\n",
            "Epoch 125/150\n",
            "768/768 [==============================] - 0s 40us/step - loss: 0.6000 - acc: 0.6940\n",
            "Epoch 126/150\n",
            "768/768 [==============================] - 0s 34us/step - loss: 0.6005 - acc: 0.6914\n",
            "Epoch 127/150\n",
            "768/768 [==============================] - 0s 37us/step - loss: 0.6068 - acc: 0.6927\n",
            "Epoch 128/150\n",
            "768/768 [==============================] - 0s 36us/step - loss: 0.5947 - acc: 0.7044\n",
            "Epoch 129/150\n",
            "768/768 [==============================] - 0s 35us/step - loss: 0.5926 - acc: 0.7057\n",
            "Epoch 130/150\n",
            "768/768 [==============================] - 0s 34us/step - loss: 0.5925 - acc: 0.7044\n",
            "Epoch 131/150\n",
            "768/768 [==============================] - 0s 35us/step - loss: 0.5901 - acc: 0.6979\n",
            "Epoch 132/150\n",
            "768/768 [==============================] - 0s 37us/step - loss: 0.5956 - acc: 0.6966\n",
            "Epoch 133/150\n",
            "768/768 [==============================] - 0s 36us/step - loss: 0.5917 - acc: 0.7031\n",
            "Epoch 134/150\n",
            "768/768 [==============================] - 0s 34us/step - loss: 0.5889 - acc: 0.7253\n",
            "Epoch 135/150\n",
            "768/768 [==============================] - 0s 37us/step - loss: 0.5923 - acc: 0.7044\n",
            "Epoch 136/150\n",
            "768/768 [==============================] - 0s 36us/step - loss: 0.5927 - acc: 0.6940\n",
            "Epoch 137/150\n",
            "768/768 [==============================] - 0s 34us/step - loss: 0.5909 - acc: 0.7070\n",
            "Epoch 138/150\n",
            "768/768 [==============================] - 0s 34us/step - loss: 0.5883 - acc: 0.7109\n",
            "Epoch 139/150\n",
            "768/768 [==============================] - 0s 36us/step - loss: 0.5938 - acc: 0.7070\n",
            "Epoch 140/150\n",
            "768/768 [==============================] - 0s 37us/step - loss: 0.5935 - acc: 0.7044\n",
            "Epoch 141/150\n",
            "768/768 [==============================] - 0s 40us/step - loss: 0.5872 - acc: 0.7135\n",
            "Epoch 142/150\n",
            "768/768 [==============================] - 0s 35us/step - loss: 0.5899 - acc: 0.7005\n",
            "Epoch 143/150\n",
            "768/768 [==============================] - 0s 36us/step - loss: 0.5968 - acc: 0.7031\n",
            "Epoch 144/150\n",
            "768/768 [==============================] - 0s 37us/step - loss: 0.5875 - acc: 0.7174\n",
            "Epoch 145/150\n",
            "768/768 [==============================] - 0s 37us/step - loss: 0.5890 - acc: 0.7044\n",
            "Epoch 146/150\n",
            "768/768 [==============================] - 0s 36us/step - loss: 0.5903 - acc: 0.7070\n",
            "Epoch 147/150\n",
            "768/768 [==============================] - 0s 36us/step - loss: 0.5914 - acc: 0.6979\n",
            "Epoch 148/150\n",
            "768/768 [==============================] - 0s 34us/step - loss: 0.5994 - acc: 0.6758\n",
            "Epoch 149/150\n",
            "768/768 [==============================] - 0s 38us/step - loss: 0.5894 - acc: 0.6927\n",
            "Epoch 150/150\n",
            "768/768 [==============================] - 0s 36us/step - loss: 0.5843 - acc: 0.7148\n"
          ],
          "name": "stdout"
        },
        {
          "output_type": "execute_result",
          "data": {
            "text/plain": [
              "<keras.callbacks.History at 0x7fe920c13320>"
            ]
          },
          "metadata": {
            "tags": []
          },
          "execution_count": 22
        }
      ]
    },
    {
      "metadata": {
        "id": "Z1wfKUxszPKa",
        "colab_type": "code",
        "outputId": "81568fb9-3cab-4010-f78b-413118e45cfc",
        "colab": {
          "base_uri": "https://localhost:8080/",
          "height": 51
        }
      },
      "cell_type": "code",
      "source": [
        "# evaluate the model\n",
        "scores = model.evaluate(X, Y)\n",
        "print(f\"{model.metrics_names[1]}: {scores[1]*100}\")"
      ],
      "execution_count": 23,
      "outputs": [
        {
          "output_type": "stream",
          "text": [
            "768/768 [==============================] - 0s 70us/step\n",
            "acc: 71.875\n"
          ],
          "name": "stdout"
        }
      ]
    },
    {
      "metadata": {
        "id": "zHYB7k9q3O8T",
        "colab_type": "text"
      },
      "cell_type": "markdown",
      "source": [
        "### Why are we getting such different results if we re-run the model?\n",
        "\n",
        "<https://machinelearningmastery.com/randomness-in-machine-learning/>"
      ]
    },
    {
      "metadata": {
        "id": "ueDVpctAzvy8",
        "colab_type": "text"
      },
      "cell_type": "markdown",
      "source": [
        "# What architecture should we try?"
      ]
    },
    {
      "metadata": {
        "id": "6W2Sc7-LzQo_",
        "colab_type": "code",
        "outputId": "f1b98758-8b00-45f6-ba29-37c547d796c9",
        "colab": {
          "base_uri": "https://localhost:8080/",
          "height": 240
        }
      },
      "cell_type": "code",
      "source": [
        "model = Sequential()\n",
        "model.add(Dense(3, input_dim=8, activation='relu'))\n",
        "model.add(Dense(2, activation='relu'))\n",
        "model.add(Dense(1, activation='sigmoid'))\n",
        "model.compile(loss='binary_crossentropy', optimizer='adam', metrics=['accuracy'])\n",
        "model.summary()"
      ],
      "execution_count": 24,
      "outputs": [
        {
          "output_type": "stream",
          "text": [
            "_________________________________________________________________\n",
            "Layer (type)                 Output Shape              Param #   \n",
            "=================================================================\n",
            "dense_3 (Dense)              (None, 3)                 27        \n",
            "_________________________________________________________________\n",
            "dense_4 (Dense)              (None, 2)                 8         \n",
            "_________________________________________________________________\n",
            "dense_5 (Dense)              (None, 1)                 3         \n",
            "=================================================================\n",
            "Total params: 38\n",
            "Trainable params: 38\n",
            "Non-trainable params: 0\n",
            "_________________________________________________________________\n"
          ],
          "name": "stdout"
        }
      ]
    },
    {
      "metadata": {
        "id": "OCE8ElpmJORy",
        "colab_type": "code",
        "outputId": "f8925136-d9de-487e-ad25-0b0fd00d60f1",
        "colab": {
          "base_uri": "https://localhost:8080/",
          "height": 1748
        }
      },
      "cell_type": "code",
      "source": [
        "model.fit(X, Y, epochs=50)"
      ],
      "execution_count": 27,
      "outputs": [
        {
          "output_type": "stream",
          "text": [
            "Epoch 1/50\n",
            "768/768 [==============================] - 0s 422us/step - loss: 6.9577 - acc: 0.3841\n",
            "Epoch 2/50\n",
            "768/768 [==============================] - 0s 40us/step - loss: 6.2426 - acc: 0.4180\n",
            "Epoch 3/50\n",
            "768/768 [==============================] - 0s 94us/step - loss: 5.5896 - acc: 0.4518\n",
            "Epoch 4/50\n",
            "768/768 [==============================] - 0s 41us/step - loss: 4.8047 - acc: 0.4766\n",
            "Epoch 5/50\n",
            "768/768 [==============================] - 0s 43us/step - loss: 3.9539 - acc: 0.4818\n",
            "Epoch 6/50\n",
            "768/768 [==============================] - 0s 41us/step - loss: 3.1124 - acc: 0.5052\n",
            "Epoch 7/50\n",
            "768/768 [==============================] - 0s 50us/step - loss: 2.4357 - acc: 0.5260\n",
            "Epoch 8/50\n",
            "768/768 [==============================] - 0s 47us/step - loss: 1.9118 - acc: 0.5443\n",
            "Epoch 9/50\n",
            "768/768 [==============================] - 0s 42us/step - loss: 1.5334 - acc: 0.5690\n",
            "Epoch 10/50\n",
            "768/768 [==============================] - 0s 38us/step - loss: 1.2808 - acc: 0.5859\n",
            "Epoch 11/50\n",
            "768/768 [==============================] - 0s 36us/step - loss: 1.1184 - acc: 0.6055\n",
            "Epoch 12/50\n",
            "768/768 [==============================] - 0s 41us/step - loss: 1.0045 - acc: 0.6198\n",
            "Epoch 13/50\n",
            "768/768 [==============================] - 0s 46us/step - loss: 0.9180 - acc: 0.6224\n",
            "Epoch 14/50\n",
            "768/768 [==============================] - 0s 45us/step - loss: 0.8546 - acc: 0.6380\n",
            "Epoch 15/50\n",
            "768/768 [==============================] - 0s 37us/step - loss: 0.8079 - acc: 0.6393\n",
            "Epoch 16/50\n",
            "768/768 [==============================] - 0s 38us/step - loss: 0.7761 - acc: 0.6406\n",
            "Epoch 17/50\n",
            "768/768 [==============================] - 0s 40us/step - loss: 0.7497 - acc: 0.6393\n",
            "Epoch 18/50\n",
            "768/768 [==============================] - 0s 41us/step - loss: 0.7314 - acc: 0.6458\n",
            "Epoch 19/50\n",
            "768/768 [==============================] - 0s 46us/step - loss: 0.7147 - acc: 0.6510\n",
            "Epoch 20/50\n",
            "768/768 [==============================] - 0s 44us/step - loss: 0.7024 - acc: 0.6497\n",
            "Epoch 21/50\n",
            "768/768 [==============================] - 0s 41us/step - loss: 0.6916 - acc: 0.6576\n",
            "Epoch 22/50\n",
            "768/768 [==============================] - 0s 43us/step - loss: 0.6829 - acc: 0.6549\n",
            "Epoch 23/50\n",
            "768/768 [==============================] - 0s 39us/step - loss: 0.6760 - acc: 0.6549\n",
            "Epoch 24/50\n",
            "768/768 [==============================] - 0s 38us/step - loss: 0.6710 - acc: 0.6562\n",
            "Epoch 25/50\n",
            "768/768 [==============================] - 0s 46us/step - loss: 0.6651 - acc: 0.6549\n",
            "Epoch 26/50\n",
            "768/768 [==============================] - 0s 44us/step - loss: 0.6606 - acc: 0.6562\n",
            "Epoch 27/50\n",
            "768/768 [==============================] - 0s 40us/step - loss: 0.6573 - acc: 0.6576\n",
            "Epoch 28/50\n",
            "768/768 [==============================] - 0s 41us/step - loss: 0.6539 - acc: 0.6602\n",
            "Epoch 29/50\n",
            "768/768 [==============================] - 0s 38us/step - loss: 0.6513 - acc: 0.6615\n",
            "Epoch 30/50\n",
            "768/768 [==============================] - 0s 41us/step - loss: 0.6485 - acc: 0.6615\n",
            "Epoch 31/50\n",
            "768/768 [==============================] - 0s 43us/step - loss: 0.6470 - acc: 0.6693\n",
            "Epoch 32/50\n",
            "768/768 [==============================] - 0s 42us/step - loss: 0.6445 - acc: 0.6693\n",
            "Epoch 33/50\n",
            "768/768 [==============================] - 0s 42us/step - loss: 0.6432 - acc: 0.6693\n",
            "Epoch 34/50\n",
            "768/768 [==============================] - 0s 40us/step - loss: 0.6414 - acc: 0.6693\n",
            "Epoch 35/50\n",
            "768/768 [==============================] - 0s 45us/step - loss: 0.6402 - acc: 0.6719\n",
            "Epoch 36/50\n",
            "768/768 [==============================] - 0s 38us/step - loss: 0.6388 - acc: 0.6758\n",
            "Epoch 37/50\n",
            "768/768 [==============================] - 0s 38us/step - loss: 0.6378 - acc: 0.6758\n",
            "Epoch 38/50\n",
            "768/768 [==============================] - 0s 60us/step - loss: 0.6365 - acc: 0.6771\n",
            "Epoch 39/50\n",
            "768/768 [==============================] - 0s 40us/step - loss: 0.6355 - acc: 0.6745\n",
            "Epoch 40/50\n",
            "768/768 [==============================] - 0s 44us/step - loss: 0.6346 - acc: 0.6732\n",
            "Epoch 41/50\n",
            "768/768 [==============================] - 0s 40us/step - loss: 0.6341 - acc: 0.6732\n",
            "Epoch 42/50\n",
            "768/768 [==============================] - 0s 41us/step - loss: 0.6335 - acc: 0.6771\n",
            "Epoch 43/50\n",
            "768/768 [==============================] - 0s 44us/step - loss: 0.6320 - acc: 0.6758\n",
            "Epoch 44/50\n",
            "768/768 [==============================] - 0s 38us/step - loss: 0.6316 - acc: 0.6771\n",
            "Epoch 45/50\n",
            "768/768 [==============================] - 0s 45us/step - loss: 0.6306 - acc: 0.6797\n",
            "Epoch 46/50\n",
            "768/768 [==============================] - 0s 46us/step - loss: 0.6303 - acc: 0.6771\n",
            "Epoch 47/50\n",
            "768/768 [==============================] - 0s 40us/step - loss: 0.6296 - acc: 0.6784\n",
            "Epoch 48/50\n",
            "768/768 [==============================] - 0s 40us/step - loss: 0.6295 - acc: 0.6732\n",
            "Epoch 49/50\n",
            "768/768 [==============================] - 0s 42us/step - loss: 0.6294 - acc: 0.6758\n",
            "Epoch 50/50\n",
            "768/768 [==============================] - 0s 43us/step - loss: 0.6287 - acc: 0.6732\n"
          ],
          "name": "stdout"
        },
        {
          "output_type": "execute_result",
          "data": {
            "text/plain": [
              "<keras.callbacks.History at 0x7fe91ff4dda0>"
            ]
          },
          "metadata": {
            "tags": []
          },
          "execution_count": 27
        }
      ]
    },
    {
      "metadata": {
        "id": "hFlIa7aQKItX",
        "colab_type": "code",
        "outputId": "1700f3ba-55d6-45f1-b928-543e8770b620",
        "colab": {
          "base_uri": "https://localhost:8080/",
          "height": 51
        }
      },
      "cell_type": "code",
      "source": [
        "# evaluate the model\n",
        "scores = model.evaluate(X, Y)\n",
        "print(f\"{model.metrics_names[1]}: {scores[1]*100}\")"
      ],
      "execution_count": 28,
      "outputs": [
        {
          "output_type": "stream",
          "text": [
            "768/768 [==============================] - 0s 28us/step\n",
            "acc: 67.44791666666666\n"
          ],
          "name": "stdout"
        }
      ]
    },
    {
      "metadata": {
        "id": "tcjMuxtn6wIQ",
        "colab_type": "text"
      },
      "cell_type": "markdown",
      "source": [
        "# Activation Functions\n",
        "\n",
        "What is an activation function and how does it work?\n",
        "\n",
        "- Takes in a weighted sum of inputs + a bias from the previous layer and outputs an \"activation\" value.\n",
        "- Based its inputs the neuron decides how 'activated' it should be. This can be thought of as the neuron deciding how strongly to fire. You can also think of it as if the neuron is deciding how much of the signal that it has received to pass onto the next layer. \n",
        "- Our choice of activation function does not only affect signal that is passed forward but also affects the backpropagation algorithm. It affects how we update weights in reverse order since activated weight/input sums become the inputs of the next layer. \n"
      ]
    },
    {
      "metadata": {
        "id": "n_b0u8Ch60bA",
        "colab_type": "text"
      },
      "cell_type": "markdown",
      "source": [
        "## Step Function\n",
        "\n",
        "![Heaviside Step Function](https://upload.wikimedia.org/wikipedia/commons/thumb/d/d9/Dirac_distribution_CDF.svg/325px-Dirac_distribution_CDF.svg.png)\n",
        "\n",
        "All or nothing, a little extreme, which is fine, but makes updating weights through backpropagation impossible. Why? remember that during backpropagation we use derivatives in order to determine how much to update or not update weights. What is the derivative of the step function?"
      ]
    },
    {
      "metadata": {
        "id": "vKR0YhIVEnXZ",
        "colab_type": "text"
      },
      "cell_type": "markdown",
      "source": [
        "## Linear Function\n",
        "\n",
        "![Linear Function](http://www.roconnell.net/Parent%20function/linear.gif)\n",
        "\n",
        "The linear function takes the opposite tact from the step function and passes the signal onto the next layer by a constant factor. There are problems with this but the biggest problems again lie in backpropagation. The derivative of any linear function is a horizontal line which would indicate that we should update all weights by a constant amount every time -which on balance wouldn't change the behavior of our network. Linear functions are typically only used for very simple tasks where interpretability is important, but if interpretability is your highest priority, you probably shouldn't be using neural networks in the first place."
      ]
    },
    {
      "metadata": {
        "id": "JFurIVL6EkQ8",
        "colab_type": "text"
      },
      "cell_type": "markdown",
      "source": [
        "## Sigmoid Function\n",
        "\n",
        "![Sigmoid Function](https://upload.wikimedia.org/wikipedia/commons/thumb/8/88/Logistic-curve.svg/480px-Logistic-curve.svg.png)\n",
        "\n",
        "The sigmoid function works great as an activation function! it's continuously differentiable, its derivative doesn't have a constant slope, and having the higher slope in the middle pushes y value predictions towards extremes which is particularly useful for binary classification problems. I mean, this is why we use it as the squishifier in logistic regression as well. It constrains output, but over repeated epochs pushes predictions towards a strong binary prediction. \n",
        "\n",
        "What's the biggest problem with the sigmoid function? The fact that its slope gets pretty flat so quickly after its departure from zero. This means that updating weights based on its gradient really diminishes the size of our weight updates as our model gets more confident about its classifications. This is why even after so many iterations with our test score example we couldn't reach the levels of fit that our gradient descent based model could reach in just a few epochs."
      ]
    },
    {
      "metadata": {
        "id": "hm6p1HWbEhYi",
        "colab_type": "text"
      },
      "cell_type": "markdown",
      "source": [
        "## Tanh Function\n",
        "\n",
        "![Tanh Function](http://mathworld.wolfram.com/images/interactive/TanhReal.gif)\n",
        "\n",
        "What if the sigmoid function didn't get so flat quite as soon when moving away from zero and was a little bit steeper in the middle? That's basically the Tanh function. The Tanh function can actually be created by scaling the sigmoid function by 2 in the y dimension and subtracting 1 from all values. It has basically the same properties as the sigmoid, still struggles from diminishingly flat gradients as we move away from 0, but its derivative is higher around 0 causing weights to move to the extremes a little faster. "
      ]
    },
    {
      "metadata": {
        "id": "sFOn_L6gEcz1",
        "colab_type": "text"
      },
      "cell_type": "markdown",
      "source": [
        "## ReLU Function\n",
        "\n",
        "![ReLU Function](https://cdn-images-1.medium.com/max/937/1*oePAhrm74RNnNEolprmTaQ.png)\n",
        "\n",
        "ReLU stands for Rectified Linear Units it is by far the most commonly used activation function in modern neural networks. It doesn't activate neurons that are being passed a negative signal and passes on positive signals. Think about why this might be useful. Remember how a lot of our initial weights got set to negative numbers by chance? This would have dealt with those negative weights a lot faster than the sigmoid function updating. What does the derivative of this function look like? It looks like the step function! This means that not all neurons are activated. With sigmoid basically all of our neurons are passing some amount of signal even if it's small making it hard for the network to differentiate important and less important connections. ReLU turns off a portion of our less important neurons which decreases computational load, but also helps the network learn what the most important connections are faster. \n",
        "\n",
        "What's the problem with relu? Well the left half of its derivative function shows that for neurons that are initialized with weights that cause them to have no activation, our gradient will not update those neuron's weights, this can lead to dead neurons that never fire and whose weights never get updated. We would probably want to update the weights of neurons that didn't fire even if it's just by a little bit in case we got unlucky with our initial weights and want to give those neurons a chance of turning back on in the future."
      ]
    },
    {
      "metadata": {
        "id": "XWdvWOBIETwk",
        "colab_type": "text"
      },
      "cell_type": "markdown",
      "source": [
        "## Leaky ReLU\n",
        "\n",
        "![Leaky ReLU](https://cdn-images-1.medium.com/max/1600/1*ypsvQH7kvtI2BhzR2eT_Sw.png)\n",
        "\n",
        "Leaky ReLU accomplishes exactly that! it avoids having a gradient of 0 on the left side of its derivative function. This means that even \"dead\" neurons have a chance of being revived over enough iterations. In some specifications the slope of the leaky left-hand side can also be experimented with as a hyperparameter of the model!"
      ]
    },
    {
      "metadata": {
        "id": "FcAxkNFREMFb",
        "colab_type": "text"
      },
      "cell_type": "markdown",
      "source": [
        "## Softmax Function\n",
        "\n",
        "![Softmax Function](https://cdn-images-1.medium.com/max/800/1*670CdxchunD-yAuUWdI7Bw.png)\n",
        "\n",
        "Like the sigmoid function but more useful for multi-class classification problems. The softmax function can take any set of inputs and translate them into probabilities that sum up to 1. This means that we can throw any list of outputs at it and it will translate them into probabilities, this is extremely useful for multi-class classification problems. Like MNIST for example..."
      ]
    },
    {
      "metadata": {
        "id": "23-XRRXKHs34",
        "colab_type": "text"
      },
      "cell_type": "markdown",
      "source": [
        "## Major takeaways\n",
        "\n",
        "- ReLU is generally better at obtaining the optimal model fit.\n",
        "- Sigmoid and its derivatives are usually better at classification problems.\n",
        "- Softmax for multi-class classification problems. \n",
        "\n",
        "You'll typically see ReLU used for all initial layers and then the final layer being sigmoid or softmax for classification problems. But you can experiment and tune these selections as hyperparameters as well!"
      ]
    },
    {
      "metadata": {
        "id": "TWuoXZCCKCI7",
        "colab_type": "text"
      },
      "cell_type": "markdown",
      "source": [
        "## MNIST with Keras \n",
        "\n",
        "### This will be a good chance to bring up dropout regularization. :)"
      ]
    },
    {
      "metadata": {
        "id": "jmJ_5azs04pU",
        "colab_type": "code",
        "colab": {}
      },
      "cell_type": "code",
      "source": [
        "import keras\n",
        "from keras.datasets import mnist\n",
        "from keras.models import Sequential\n",
        "from keras.layers import Dense, Dropout\n",
        "import numpy as np"
      ],
      "execution_count": 0,
      "outputs": []
    },
    {
      "metadata": {
        "id": "xhVJxlnTR_Hg",
        "colab_type": "code",
        "outputId": "059f415e-dc70-4914-db42-ea30473ea077",
        "colab": {
          "base_uri": "https://localhost:8080/",
          "height": 86
        }
      },
      "cell_type": "code",
      "source": [
        "# global hyperparameters\n",
        "\n",
        "batch_size = 64\n",
        "num_classes = 10\n",
        "epochs = 20\n",
        "\n",
        "(x_train, y_train), (x_test, y_test) = mnist.load_data()\n",
        "\n",
        "# Flatten the images\n",
        "x_train = x_train.reshape(60000, 784)\n",
        "x_test = x_test.reshape(10000, 784)\n",
        "\n",
        "x_train = x_train.astype('float32')\n",
        "x_test = x_test.astype('float32')\n",
        "\n",
        "y_train = keras.utils.to_categorical(y_train, num_classes)\n",
        "y_test = keras.utils.to_categorical(y_test, num_classes)\n",
        "\n",
        "x_train /= 255\n",
        "x_test /= 255\n",
        "\n",
        "print(x_train.shape[0], 'train samples')\n",
        "print(x_test.shape[0], 'test samples')"
      ],
      "execution_count": 30,
      "outputs": [
        {
          "output_type": "stream",
          "text": [
            "Downloading data from https://s3.amazonaws.com/img-datasets/mnist.npz\n",
            "11493376/11490434 [==============================] - 0s 0us/step\n",
            "60000 train samples\n",
            "10000 test samples\n"
          ],
          "name": "stdout"
        }
      ]
    },
    {
      "metadata": {
        "id": "KcX6FhreT5Ly",
        "colab_type": "code",
        "outputId": "0618a706-9088-4dad-8129-bfd0a8ae3138",
        "colab": {
          "base_uri": "https://localhost:8080/",
          "height": 380
        }
      },
      "cell_type": "code",
      "source": [
        "model = Sequential()\n",
        "model.add(Dense(16, activation='relu', input_shape=(784,)))\n",
        "model.add(Dropout(0.1))\n",
        "model.add(Dense(16, activation='relu'))\n",
        "model.add(Dropout(0.1))\n",
        "model.add(Dense(num_classes, activation='softmax'))\n",
        "model.compile(loss='categorical_crossentropy', optimizer='adam', metrics=['accuracy'])\n",
        "model.summary()"
      ],
      "execution_count": 31,
      "outputs": [
        {
          "output_type": "stream",
          "text": [
            "WARNING:tensorflow:From /usr/local/lib/python3.6/dist-packages/keras/backend/tensorflow_backend.py:3445: calling dropout (from tensorflow.python.ops.nn_ops) with keep_prob is deprecated and will be removed in a future version.\n",
            "Instructions for updating:\n",
            "Please use `rate` instead of `keep_prob`. Rate should be set to `rate = 1 - keep_prob`.\n",
            "_________________________________________________________________\n",
            "Layer (type)                 Output Shape              Param #   \n",
            "=================================================================\n",
            "dense_6 (Dense)              (None, 16)                12560     \n",
            "_________________________________________________________________\n",
            "dropout_1 (Dropout)          (None, 16)                0         \n",
            "_________________________________________________________________\n",
            "dense_7 (Dense)              (None, 16)                272       \n",
            "_________________________________________________________________\n",
            "dropout_2 (Dropout)          (None, 16)                0         \n",
            "_________________________________________________________________\n",
            "dense_8 (Dense)              (None, 10)                170       \n",
            "=================================================================\n",
            "Total params: 13,002\n",
            "Trainable params: 13,002\n",
            "Non-trainable params: 0\n",
            "_________________________________________________________________\n"
          ],
          "name": "stdout"
        }
      ]
    },
    {
      "metadata": {
        "id": "uQcfy8_YUrpw",
        "colab_type": "code",
        "outputId": "49d991d2-5b2c-4899-f38a-b9d566cdc2b6",
        "colab": {
          "base_uri": "https://localhost:8080/",
          "height": 754
        }
      },
      "cell_type": "code",
      "source": [
        "history = model.fit(x_train, y_train, epochs=epochs, validation_split=.1)\n",
        "scores = model.evaluate(x_test,y_test)\n",
        "print(f'{model.metrics_names[1]}: {scores[1]*100}')"
      ],
      "execution_count": 32,
      "outputs": [
        {
          "output_type": "stream",
          "text": [
            "Train on 54000 samples, validate on 6000 samples\n",
            "Epoch 1/20\n",
            "54000/54000 [==============================] - 3s 63us/step - loss: 0.7227 - acc: 0.7651 - val_loss: 0.2522 - val_acc: 0.9278\n",
            "Epoch 2/20\n",
            "54000/54000 [==============================] - 3s 56us/step - loss: 0.4203 - acc: 0.8699 - val_loss: 0.2010 - val_acc: 0.9438\n",
            "Epoch 3/20\n",
            "54000/54000 [==============================] - 3s 55us/step - loss: 0.3651 - acc: 0.8872 - val_loss: 0.1810 - val_acc: 0.9460\n",
            "Epoch 4/20\n",
            "54000/54000 [==============================] - 3s 54us/step - loss: 0.3411 - acc: 0.8957 - val_loss: 0.1729 - val_acc: 0.9503\n",
            "Epoch 5/20\n",
            "54000/54000 [==============================] - 3s 53us/step - loss: 0.3213 - acc: 0.9008 - val_loss: 0.1650 - val_acc: 0.9532\n",
            "Epoch 6/20\n",
            "54000/54000 [==============================] - 3s 53us/step - loss: 0.3036 - acc: 0.9070 - val_loss: 0.1627 - val_acc: 0.9528\n",
            "Epoch 7/20\n",
            "54000/54000 [==============================] - 3s 53us/step - loss: 0.2903 - acc: 0.9110 - val_loss: 0.1573 - val_acc: 0.9552\n",
            "Epoch 8/20\n",
            "54000/54000 [==============================] - 3s 53us/step - loss: 0.2850 - acc: 0.9126 - val_loss: 0.1506 - val_acc: 0.9555\n",
            "Epoch 9/20\n",
            "54000/54000 [==============================] - 3s 54us/step - loss: 0.2796 - acc: 0.9156 - val_loss: 0.1423 - val_acc: 0.9595\n",
            "Epoch 10/20\n",
            "54000/54000 [==============================] - 3s 54us/step - loss: 0.2690 - acc: 0.9174 - val_loss: 0.1529 - val_acc: 0.9543\n",
            "Epoch 11/20\n",
            "54000/54000 [==============================] - 3s 53us/step - loss: 0.2651 - acc: 0.9196 - val_loss: 0.1417 - val_acc: 0.9595\n",
            "Epoch 12/20\n",
            "54000/54000 [==============================] - 3s 53us/step - loss: 0.2632 - acc: 0.9200 - val_loss: 0.1415 - val_acc: 0.9583\n",
            "Epoch 13/20\n",
            "54000/54000 [==============================] - 3s 52us/step - loss: 0.2587 - acc: 0.9196 - val_loss: 0.1474 - val_acc: 0.9563\n",
            "Epoch 14/20\n",
            "54000/54000 [==============================] - 3s 52us/step - loss: 0.2555 - acc: 0.9211 - val_loss: 0.1422 - val_acc: 0.9600\n",
            "Epoch 15/20\n",
            "54000/54000 [==============================] - 3s 53us/step - loss: 0.2511 - acc: 0.9230 - val_loss: 0.1444 - val_acc: 0.9597\n",
            "Epoch 16/20\n",
            "54000/54000 [==============================] - 3s 53us/step - loss: 0.2516 - acc: 0.9238 - val_loss: 0.1437 - val_acc: 0.9575\n",
            "Epoch 17/20\n",
            "54000/54000 [==============================] - 3s 53us/step - loss: 0.2483 - acc: 0.9247 - val_loss: 0.1412 - val_acc: 0.9598\n",
            "Epoch 18/20\n",
            "54000/54000 [==============================] - 3s 53us/step - loss: 0.2455 - acc: 0.9241 - val_loss: 0.1385 - val_acc: 0.9608\n",
            "Epoch 19/20\n",
            "54000/54000 [==============================] - 3s 53us/step - loss: 0.2415 - acc: 0.9262 - val_loss: 0.1368 - val_acc: 0.9623\n",
            "Epoch 20/20\n",
            "54000/54000 [==============================] - 3s 53us/step - loss: 0.2408 - acc: 0.9270 - val_loss: 0.1420 - val_acc: 0.9593\n",
            "10000/10000 [==============================] - 0s 25us/step\n",
            "acc: 94.99\n"
          ],
          "name": "stdout"
        }
      ]
    },
    {
      "metadata": {
        "id": "CKmx8153w9Ci",
        "colab_type": "text"
      },
      "cell_type": "markdown",
      "source": [
        "## What if we use dropout techniques to prevent overfitting? How does that affect our model?\n",
        "\n",
        "![Regularization](https://upload.wikimedia.org/wikipedia/commons/thumb/0/02/Regularization.svg/354px-Regularization.svg.png)"
      ]
    },
    {
      "metadata": {
        "id": "CWDopERJ16yJ",
        "colab_type": "code",
        "colab": {}
      },
      "cell_type": "code",
      "source": [
        "### Try it with dropout"
      ],
      "execution_count": 0,
      "outputs": []
    }
  ]
}