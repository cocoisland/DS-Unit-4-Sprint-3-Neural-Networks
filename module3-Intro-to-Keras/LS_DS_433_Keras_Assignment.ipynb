{
  "nbformat": 4,
  "nbformat_minor": 0,
  "metadata": {
    "colab": {
      "name": "LS_DS_433_Keras_Assignment.ipynb",
      "version": "0.3.2",
      "provenance": [],
      "include_colab_link": true
    },
    "kernelspec": {
      "name": "python3",
      "display_name": "Python 3"
    }
  },
  "cells": [
    {
      "cell_type": "markdown",
      "metadata": {
        "id": "view-in-github",
        "colab_type": "text"
      },
      "source": [
        "<a href=\"https://colab.research.google.com/github/cocoisland/DS-Unit-4-Sprint-3-Neural-Networks/blob/master/module3-Intro-to-Keras/LS_DS_433_Keras_Assignment.ipynb\" target=\"_parent\"><img src=\"https://colab.research.google.com/assets/colab-badge.svg\" alt=\"Open In Colab\"/></a>"
      ]
    },
    {
      "metadata": {
        "id": "pBQsZEJmubLs",
        "colab_type": "text"
      },
      "cell_type": "markdown",
      "source": [
        "## Use the Keras Library to build a Multi-Layer Perceptron Model on the Boston Housing dataset\n",
        "\n",
        "- The Boston Housing dataset comes with the Keras library so use Keras to import it into your notebook. \n",
        "- Normalize the data (all features should have roughly the same scale)\n",
        "- Import the type of model and layers that you will need from Keras.\n",
        "- Instantiate a model object and use `model.add()` to add layers to your model\n",
        "- Since this is a regression model you will have a single output node in the final layer.\n",
        "- Use activation functions that are appropriate for this task\n",
        "- Compile your model\n",
        "- Fit your model and report its accuracy in terms of Mean Squared Error\n",
        "- Use the history object that is returned from model.fit to make graphs of the model's loss or train/validation accuracies by epoch. \n",
        "- Run this same data through a linear regression model. Which achieves higher accuracy?\n",
        "- Do a little bit of feature engineering and see how that affects your neural network model. (you will need to change your model to accept more inputs)\n",
        "- After feature engineering, which model sees a greater accuracy boost due to the new features?"
      ]
    },
    {
      "metadata": {
        "id": "my9f9RhUVHUg",
        "colab_type": "code",
        "colab": {
          "base_uri": "https://localhost:8080/",
          "height": 206
        },
        "outputId": "d9385017-e374-4805-f50e-d3ec7e51187a"
      },
      "cell_type": "code",
      "source": [
        "!wget https://raw.githubusercontent.com/jbrownlee/Datasets/master/housing.data"
      ],
      "execution_count": 30,
      "outputs": [
        {
          "output_type": "stream",
          "text": [
            "--2019-04-03 22:32:11--  https://raw.githubusercontent.com/jbrownlee/Datasets/master/housing.data\n",
            "Resolving raw.githubusercontent.com (raw.githubusercontent.com)... 151.101.0.133, 151.101.64.133, 151.101.128.133, ...\n",
            "Connecting to raw.githubusercontent.com (raw.githubusercontent.com)|151.101.0.133|:443... connected.\n",
            "HTTP request sent, awaiting response... 200 OK\n",
            "Length: 49081 (48K) [text/plain]\n",
            "Saving to: ‘housing.data’\n",
            "\n",
            "\rhousing.data          0%[                    ]       0  --.-KB/s               \rhousing.data        100%[===================>]  47.93K  --.-KB/s    in 0.02s   \n",
            "\n",
            "2019-04-03 22:32:12 (1.90 MB/s) - ‘housing.data’ saved [49081/49081]\n",
            "\n"
          ],
          "name": "stdout"
        }
      ]
    },
    {
      "metadata": {
        "id": "iXZ7prRQVN6k",
        "colab_type": "code",
        "colab": {
          "base_uri": "https://localhost:8080/",
          "height": 223
        },
        "outputId": "774ba458-44bc-451c-ad83-19da17ae1728"
      },
      "cell_type": "code",
      "source": [
        "import numpy\n",
        "\n",
        "dataset = numpy.loadtxt('housing.data')\n",
        "# Split into X and Y variables\n",
        "X = dataset\n",
        "print(f' X.shape = {X.shape}')\n",
        "print(X[0:3])\n",
        "Y = dataset[:,-1]\n",
        "print(f' Y shape = {Y.shape}')\n",
        "print(Y[:5])"
      ],
      "execution_count": 36,
      "outputs": [
        {
          "output_type": "stream",
          "text": [
            " X.shape = (506, 14)\n",
            "[[6.3200e-03 1.8000e+01 2.3100e+00 0.0000e+00 5.3800e-01 6.5750e+00\n",
            "  6.5200e+01 4.0900e+00 1.0000e+00 2.9600e+02 1.5300e+01 3.9690e+02\n",
            "  4.9800e+00 2.4000e+01]\n",
            " [2.7310e-02 0.0000e+00 7.0700e+00 0.0000e+00 4.6900e-01 6.4210e+00\n",
            "  7.8900e+01 4.9671e+00 2.0000e+00 2.4200e+02 1.7800e+01 3.9690e+02\n",
            "  9.1400e+00 2.1600e+01]\n",
            " [2.7290e-02 0.0000e+00 7.0700e+00 0.0000e+00 4.6900e-01 7.1850e+00\n",
            "  6.1100e+01 4.9671e+00 2.0000e+00 2.4200e+02 1.7800e+01 3.9283e+02\n",
            "  4.0300e+00 3.4700e+01]]\n",
            " Y shape = (506,)\n",
            "[24.  21.6 34.7 33.4 36.2]\n"
          ],
          "name": "stdout"
        }
      ]
    },
    {
      "metadata": {
        "id": "E2Bt0zy-Xdh4",
        "colab_type": "code",
        "colab": {
          "base_uri": "https://localhost:8080/",
          "height": 34
        },
        "outputId": "f91fa72c-55bf-4bd9-88eb-005e16cbde82"
      },
      "cell_type": "code",
      "source": [
        "import numpy\n",
        "import pandas\n",
        "from keras.models import Sequential\n",
        "from keras.layers import Dense\n",
        "from keras.wrappers.scikit_learn import KerasRegressor\n",
        "from sklearn.model_selection import cross_val_score\n",
        "from sklearn.model_selection import KFold\n",
        "from sklearn.preprocessing import StandardScaler\n",
        "from sklearn.pipeline import Pipeline"
      ],
      "execution_count": 44,
      "outputs": [
        {
          "output_type": "stream",
          "text": [
            "Using TensorFlow backend.\n"
          ],
          "name": "stderr"
        }
      ]
    },
    {
      "metadata": {
        "id": "zWIIalXgXrY7",
        "colab_type": "code",
        "colab": {}
      },
      "cell_type": "code",
      "source": [
        "import pandas\n",
        "\n",
        "dataframe = pandas.read_csv(\"housing.data\", delim_whitespace=True, header=None)\n",
        "dataset = dataframe.values\n",
        "# split into input (X) and output (Y) variables\n",
        "X = dataset[:,0:13]\n",
        "Y = dataset[:,13]"
      ],
      "execution_count": 0,
      "outputs": []
    },
    {
      "metadata": {
        "id": "6sUIChbGkiQ9",
        "colab_type": "code",
        "colab": {
          "base_uri": "https://localhost:8080/",
          "height": 198
        },
        "outputId": "ca2dc4c4-c301-4909-92b6-360dd5c6a6a9"
      },
      "cell_type": "code",
      "source": [
        "dataframe.head()"
      ],
      "execution_count": 49,
      "outputs": [
        {
          "output_type": "execute_result",
          "data": {
            "text/html": [
              "<div>\n",
              "<style scoped>\n",
              "    .dataframe tbody tr th:only-of-type {\n",
              "        vertical-align: middle;\n",
              "    }\n",
              "\n",
              "    .dataframe tbody tr th {\n",
              "        vertical-align: top;\n",
              "    }\n",
              "\n",
              "    .dataframe thead th {\n",
              "        text-align: right;\n",
              "    }\n",
              "</style>\n",
              "<table border=\"1\" class=\"dataframe\">\n",
              "  <thead>\n",
              "    <tr style=\"text-align: right;\">\n",
              "      <th></th>\n",
              "      <th>0</th>\n",
              "      <th>1</th>\n",
              "      <th>2</th>\n",
              "      <th>3</th>\n",
              "      <th>4</th>\n",
              "      <th>5</th>\n",
              "      <th>6</th>\n",
              "      <th>7</th>\n",
              "      <th>8</th>\n",
              "      <th>9</th>\n",
              "      <th>10</th>\n",
              "      <th>11</th>\n",
              "      <th>12</th>\n",
              "      <th>13</th>\n",
              "    </tr>\n",
              "  </thead>\n",
              "  <tbody>\n",
              "    <tr>\n",
              "      <th>0</th>\n",
              "      <td>0.00632</td>\n",
              "      <td>18.0</td>\n",
              "      <td>2.31</td>\n",
              "      <td>0</td>\n",
              "      <td>0.538</td>\n",
              "      <td>6.575</td>\n",
              "      <td>65.2</td>\n",
              "      <td>4.0900</td>\n",
              "      <td>1</td>\n",
              "      <td>296.0</td>\n",
              "      <td>15.3</td>\n",
              "      <td>396.90</td>\n",
              "      <td>4.98</td>\n",
              "      <td>24.0</td>\n",
              "    </tr>\n",
              "    <tr>\n",
              "      <th>1</th>\n",
              "      <td>0.02731</td>\n",
              "      <td>0.0</td>\n",
              "      <td>7.07</td>\n",
              "      <td>0</td>\n",
              "      <td>0.469</td>\n",
              "      <td>6.421</td>\n",
              "      <td>78.9</td>\n",
              "      <td>4.9671</td>\n",
              "      <td>2</td>\n",
              "      <td>242.0</td>\n",
              "      <td>17.8</td>\n",
              "      <td>396.90</td>\n",
              "      <td>9.14</td>\n",
              "      <td>21.6</td>\n",
              "    </tr>\n",
              "    <tr>\n",
              "      <th>2</th>\n",
              "      <td>0.02729</td>\n",
              "      <td>0.0</td>\n",
              "      <td>7.07</td>\n",
              "      <td>0</td>\n",
              "      <td>0.469</td>\n",
              "      <td>7.185</td>\n",
              "      <td>61.1</td>\n",
              "      <td>4.9671</td>\n",
              "      <td>2</td>\n",
              "      <td>242.0</td>\n",
              "      <td>17.8</td>\n",
              "      <td>392.83</td>\n",
              "      <td>4.03</td>\n",
              "      <td>34.7</td>\n",
              "    </tr>\n",
              "    <tr>\n",
              "      <th>3</th>\n",
              "      <td>0.03237</td>\n",
              "      <td>0.0</td>\n",
              "      <td>2.18</td>\n",
              "      <td>0</td>\n",
              "      <td>0.458</td>\n",
              "      <td>6.998</td>\n",
              "      <td>45.8</td>\n",
              "      <td>6.0622</td>\n",
              "      <td>3</td>\n",
              "      <td>222.0</td>\n",
              "      <td>18.7</td>\n",
              "      <td>394.63</td>\n",
              "      <td>2.94</td>\n",
              "      <td>33.4</td>\n",
              "    </tr>\n",
              "    <tr>\n",
              "      <th>4</th>\n",
              "      <td>0.06905</td>\n",
              "      <td>0.0</td>\n",
              "      <td>2.18</td>\n",
              "      <td>0</td>\n",
              "      <td>0.458</td>\n",
              "      <td>7.147</td>\n",
              "      <td>54.2</td>\n",
              "      <td>6.0622</td>\n",
              "      <td>3</td>\n",
              "      <td>222.0</td>\n",
              "      <td>18.7</td>\n",
              "      <td>396.90</td>\n",
              "      <td>5.33</td>\n",
              "      <td>36.2</td>\n",
              "    </tr>\n",
              "  </tbody>\n",
              "</table>\n",
              "</div>"
            ],
            "text/plain": [
              "        0     1     2   3      4      5     6       7   8      9     10  \\\n",
              "0  0.00632  18.0  2.31   0  0.538  6.575  65.2  4.0900   1  296.0  15.3   \n",
              "1  0.02731   0.0  7.07   0  0.469  6.421  78.9  4.9671   2  242.0  17.8   \n",
              "2  0.02729   0.0  7.07   0  0.469  7.185  61.1  4.9671   2  242.0  17.8   \n",
              "3  0.03237   0.0  2.18   0  0.458  6.998  45.8  6.0622   3  222.0  18.7   \n",
              "4  0.06905   0.0  2.18   0  0.458  7.147  54.2  6.0622   3  222.0  18.7   \n",
              "\n",
              "       11    12    13  \n",
              "0  396.90  4.98  24.0  \n",
              "1  396.90  9.14  21.6  \n",
              "2  392.83  4.03  34.7  \n",
              "3  394.63  2.94  33.4  \n",
              "4  396.90  5.33  36.2  "
            ]
          },
          "metadata": {
            "tags": []
          },
          "execution_count": 49
        }
      ]
    },
    {
      "metadata": {
        "id": "kCY-_plXYg1M",
        "colab_type": "code",
        "colab": {
          "base_uri": "https://localhost:8080/",
          "height": 206
        },
        "outputId": "10547634-09fc-45f5-8ae5-cdf41956cbd7"
      },
      "cell_type": "code",
      "source": [
        "# define base model\n",
        "def baseline_model():\n",
        "\t# create model\n",
        "\tmodel = Sequential()\n",
        "\tmodel.add(Dense(13, input_dim=13, kernel_initializer='normal', activation='relu'))\n",
        "\tmodel.add(Dense(1, kernel_initializer='normal'))\n",
        "\t# Compile model\n",
        "\tmodel.compile(loss='mean_squared_error', optimizer='adam')\n",
        "\treturn model\n",
        "baseline_model().summary()"
      ],
      "execution_count": 54,
      "outputs": [
        {
          "output_type": "stream",
          "text": [
            "_________________________________________________________________\n",
            "Layer (type)                 Output Shape              Param #   \n",
            "=================================================================\n",
            "dense_44 (Dense)             (None, 13)                182       \n",
            "_________________________________________________________________\n",
            "dense_45 (Dense)             (None, 1)                 14        \n",
            "=================================================================\n",
            "Total params: 196\n",
            "Trainable params: 196\n",
            "Non-trainable params: 0\n",
            "_________________________________________________________________\n"
          ],
          "name": "stdout"
        }
      ]
    },
    {
      "metadata": {
        "id": "L6FzCqi8eAic",
        "colab_type": "code",
        "colab": {}
      },
      "cell_type": "code",
      "source": [
        "# fix random seed for reproducibility\n",
        "seed = 7\n",
        "numpy.random.seed(seed)\n",
        "\n",
        "# evaluate model with standardized dataset\n",
        "estimator = KerasRegressor(build_fn=baseline_model, epochs=100, batch_size=5, verbose=0)"
      ],
      "execution_count": 0,
      "outputs": []
    },
    {
      "metadata": {
        "id": "KvFFqMjuhAyU",
        "colab_type": "code",
        "colab": {
          "base_uri": "https://localhost:8080/",
          "height": 157
        },
        "outputId": "54ab7974-acb3-4508-acb4-3cd0d1b9f720"
      },
      "cell_type": "code",
      "source": [
        "# evaluate  baseline model with 10-fold cross.\n",
        "kfold = KFold(n_splits=10, random_state=seed)\n",
        "results = cross_val_score(estimator, X, Y, cv=kfold)\n",
        "print(\"Results: %.2f (%.2f) MSE\" % (results.mean(), results.std()))"
      ],
      "execution_count": 46,
      "outputs": [
        {
          "output_type": "stream",
          "text": [
            "WARNING:tensorflow:From /usr/local/lib/python3.6/dist-packages/tensorflow/python/framework/op_def_library.py:263: colocate_with (from tensorflow.python.framework.ops) is deprecated and will be removed in a future version.\n",
            "Instructions for updating:\n",
            "Colocations handled automatically by placer.\n",
            "WARNING:tensorflow:From /usr/local/lib/python3.6/dist-packages/tensorflow/python/ops/math_ops.py:3066: to_int32 (from tensorflow.python.ops.math_ops) is deprecated and will be removed in a future version.\n",
            "Instructions for updating:\n",
            "Use tf.cast instead.\n",
            "Results: -31.28 (23.60) MSE\n"
          ],
          "name": "stdout"
        }
      ]
    },
    {
      "metadata": {
        "id": "iloqEN8ml4JV",
        "colab_type": "code",
        "colab": {}
      },
      "cell_type": "code",
      "source": [
        "# standardized dataset with StandardScaler()\n",
        "\n",
        "def run_model(model):\n",
        "  numpy.random.seed(seed)\n",
        "  estimators = []\n",
        "  estimators.append(('standardize', StandardScaler()))\n",
        "  estimators.append(('mlp', KerasRegressor(build_fn=model, epochs=50, batch_size=5, verbose=0)))\n",
        "  pipeline = Pipeline(estimators)\n",
        "  kfold = KFold(n_splits=10, random_state=seed)\n",
        "  results = cross_val_score(pipeline, X, Y, cv=kfold)\n",
        "  return(\"Standardized: %.2f (%.2f) MSE\" % (results.mean(), results.std()))"
      ],
      "execution_count": 0,
      "outputs": []
    },
    {
      "metadata": {
        "id": "lOLezVjckNUm",
        "colab_type": "code",
        "colab": {
          "base_uri": "https://localhost:8080/",
          "height": 34
        },
        "outputId": "fd3cb450-0b6f-42ad-fa44-41d88be4139e"
      },
      "cell_type": "code",
      "source": [
        "# evaluate model with standardized dataset. Boston dataset varies from \n",
        "run_model(baseline_model)"
      ],
      "execution_count": 57,
      "outputs": [
        {
          "output_type": "execute_result",
          "data": {
            "text/plain": [
              "'Standardized: -29.34 (27.46) MSE'"
            ]
          },
          "metadata": {
            "tags": []
          },
          "execution_count": 57
        }
      ]
    },
    {
      "metadata": {
        "id": "W-KpyC2Jk18M",
        "colab_type": "code",
        "colab": {
          "base_uri": "https://localhost:8080/",
          "height": 240
        },
        "outputId": "3f058c64-323c-4bb4-aecf-668c8ccd55eb"
      },
      "cell_type": "code",
      "source": [
        "# improve the performance a neural network by adding more layers. \n",
        "def larger_model():\n",
        "\t# create model\n",
        "\tmodel = Sequential()\n",
        "\tmodel.add(Dense(13, input_dim=13, kernel_initializer='normal', activation='relu'))\n",
        "\tmodel.add(Dense(6, kernel_initializer='normal', activation='relu'))\n",
        "\tmodel.add(Dense(1, kernel_initializer='normal'))\n",
        "\t# Compile model\n",
        "\tmodel.compile(loss='mean_squared_error', optimizer='adam')\n",
        "\treturn model\n",
        "larger_model().summary()"
      ],
      "execution_count": 53,
      "outputs": [
        {
          "output_type": "stream",
          "text": [
            "_________________________________________________________________\n",
            "Layer (type)                 Output Shape              Param #   \n",
            "=================================================================\n",
            "dense_41 (Dense)             (None, 13)                182       \n",
            "_________________________________________________________________\n",
            "dense_42 (Dense)             (None, 6)                 84        \n",
            "_________________________________________________________________\n",
            "dense_43 (Dense)             (None, 1)                 7         \n",
            "=================================================================\n",
            "Total params: 273\n",
            "Trainable params: 273\n",
            "Non-trainable params: 0\n",
            "_________________________________________________________________\n"
          ],
          "name": "stdout"
        }
      ]
    },
    {
      "metadata": {
        "id": "unN78xt2mlma",
        "colab_type": "code",
        "colab": {
          "base_uri": "https://localhost:8080/",
          "height": 68
        },
        "outputId": "b4c94ee0-8393-412f-b547-6970d39ac223"
      },
      "cell_type": "code",
      "source": [
        "%%time\n",
        "run_model(larger_model)"
      ],
      "execution_count": 58,
      "outputs": [
        {
          "output_type": "stream",
          "text": [
            "CPU times: user 1min 31s, sys: 2.9 s, total: 1min 34s\n",
            "Wall time: 1min 21s\n"
          ],
          "name": "stdout"
        },
        {
          "output_type": "execute_result",
          "data": {
            "text/plain": [
              "'Standardized: -23.12 (26.79) MSE'"
            ]
          },
          "metadata": {
            "tags": []
          },
          "execution_count": 58
        }
      ]
    },
    {
      "metadata": {
        "id": "kihB7w_BnAT2",
        "colab_type": "code",
        "colab": {
          "base_uri": "https://localhost:8080/",
          "height": 206
        },
        "outputId": "df48658f-71ab-4f15-bc9f-9791a217e1fe"
      },
      "cell_type": "code",
      "source": [
        "# define wider model to increase the representational capability of the model\n",
        "def wider_model():\n",
        "\t# create model\n",
        "\tmodel = Sequential()\n",
        "\tmodel.add(Dense(20, input_dim=13, kernel_initializer='normal', activation='relu'))\n",
        "\tmodel.add(Dense(1, kernel_initializer='normal'))\n",
        "\t# Compile model\n",
        "\tmodel.compile(loss='mean_squared_error', optimizer='adam')\n",
        "\treturn model\n",
        "wider_model().summary()"
      ],
      "execution_count": 59,
      "outputs": [
        {
          "output_type": "stream",
          "text": [
            "_________________________________________________________________\n",
            "Layer (type)                 Output Shape              Param #   \n",
            "=================================================================\n",
            "dense_96 (Dense)             (None, 20)                280       \n",
            "_________________________________________________________________\n",
            "dense_97 (Dense)             (None, 1)                 21        \n",
            "=================================================================\n",
            "Total params: 301\n",
            "Trainable params: 301\n",
            "Non-trainable params: 0\n",
            "_________________________________________________________________\n"
          ],
          "name": "stdout"
        }
      ]
    },
    {
      "metadata": {
        "id": "mdoOKjlPnSuU",
        "colab_type": "code",
        "colab": {
          "base_uri": "https://localhost:8080/",
          "height": 68
        },
        "outputId": "4c9d6559-7ed7-4fc3-9e07-9bb98bbf7ca6"
      },
      "cell_type": "code",
      "source": [
        "%%time\n",
        "run_model(wider_model)"
      ],
      "execution_count": 63,
      "outputs": [
        {
          "output_type": "stream",
          "text": [
            "CPU times: user 2min 8s, sys: 2.5 s, total: 2min 10s\n",
            "Wall time: 1min 59s\n"
          ],
          "name": "stdout"
        },
        {
          "output_type": "execute_result",
          "data": {
            "text/plain": [
              "'Standardized: -24.18 (24.91) MSE'"
            ]
          },
          "metadata": {
            "tags": []
          },
          "execution_count": 63
        }
      ]
    },
    {
      "metadata": {
        "id": "yzi2PzMvowCo",
        "colab_type": "code",
        "colab": {
          "base_uri": "https://localhost:8080/",
          "height": 703
        },
        "outputId": "845d2d12-af09-4f14-fb68-ac5cce0d3b44"
      },
      "cell_type": "code",
      "source": [
        "model = Sequential()\n",
        "model.add(Dense(20, input_dim=13, kernel_initializer='normal', activation='relu'))\n",
        "model.add(Dense(1, kernel_initializer='normal'))\n",
        "model.compile(loss='mean_squared_error', optimizer='adam')\n",
        "\n",
        "history = model.fit(X, Y, epochs=20)"
      ],
      "execution_count": 65,
      "outputs": [
        {
          "output_type": "stream",
          "text": [
            "Epoch 1/20\n",
            "506/506 [==============================] - 4s 8ms/step - loss: 222.1097\n",
            "Epoch 2/20\n",
            "506/506 [==============================] - 0s 80us/step - loss: 123.3372\n",
            "Epoch 3/20\n",
            "506/506 [==============================] - 0s 76us/step - loss: 97.3011\n",
            "Epoch 4/20\n",
            "506/506 [==============================] - 0s 79us/step - loss: 80.4778\n",
            "Epoch 5/20\n",
            "506/506 [==============================] - 0s 75us/step - loss: 70.6488\n",
            "Epoch 6/20\n",
            "506/506 [==============================] - 0s 84us/step - loss: 67.2735\n",
            "Epoch 7/20\n",
            "506/506 [==============================] - 0s 77us/step - loss: 65.0929\n",
            "Epoch 8/20\n",
            "506/506 [==============================] - 0s 77us/step - loss: 62.8735\n",
            "Epoch 9/20\n",
            "506/506 [==============================] - 0s 74us/step - loss: 62.0545\n",
            "Epoch 10/20\n",
            "506/506 [==============================] - 0s 83us/step - loss: 60.3075\n",
            "Epoch 11/20\n",
            "506/506 [==============================] - 0s 80us/step - loss: 59.6000\n",
            "Epoch 12/20\n",
            "506/506 [==============================] - 0s 79us/step - loss: 58.8483\n",
            "Epoch 13/20\n",
            "506/506 [==============================] - 0s 80us/step - loss: 58.4085\n",
            "Epoch 14/20\n",
            "506/506 [==============================] - 0s 76us/step - loss: 56.6807\n",
            "Epoch 15/20\n",
            "506/506 [==============================] - 0s 84us/step - loss: 56.1253\n",
            "Epoch 16/20\n",
            "506/506 [==============================] - 0s 86us/step - loss: 55.4281\n",
            "Epoch 17/20\n",
            "506/506 [==============================] - 0s 86us/step - loss: 54.3114\n",
            "Epoch 18/20\n",
            "506/506 [==============================] - 0s 80us/step - loss: 53.6210\n",
            "Epoch 19/20\n",
            "506/506 [==============================] - 0s 79us/step - loss: 53.0431\n",
            "Epoch 20/20\n",
            "506/506 [==============================] - 0s 85us/step - loss: 52.1546\n"
          ],
          "name": "stdout"
        }
      ]
    },
    {
      "metadata": {
        "id": "mh5d-3PjsdpD",
        "colab_type": "code",
        "colab": {
          "base_uri": "https://localhost:8080/",
          "height": 360
        },
        "outputId": "c82697e7-f750-473a-b1c9-8702fb9baa44"
      },
      "cell_type": "code",
      "source": [
        "history.history"
      ],
      "execution_count": 75,
      "outputs": [
        {
          "output_type": "execute_result",
          "data": {
            "text/plain": [
              "{'loss': [222.1097436837057,\n",
              "  123.33721293573794,\n",
              "  97.30106109498517,\n",
              "  80.47776960289997,\n",
              "  70.64882762441522,\n",
              "  67.2735438591878,\n",
              "  65.0928845311342,\n",
              "  62.873540795367695,\n",
              "  62.0544910657076,\n",
              "  60.30750286720487,\n",
              "  59.60000369105886,\n",
              "  58.84832127386402,\n",
              "  58.4084570059192,\n",
              "  56.68066460530277,\n",
              "  56.12534014132654,\n",
              "  55.428111532460086,\n",
              "  54.311371784436375,\n",
              "  53.62096067285349,\n",
              "  53.04307363155802,\n",
              "  52.15456826130863]}"
            ]
          },
          "metadata": {
            "tags": []
          },
          "execution_count": 75
        }
      ]
    },
    {
      "metadata": {
        "id": "j-1g0vscq4qY",
        "colab_type": "code",
        "colab": {
          "base_uri": "https://localhost:8080/",
          "height": 497
        },
        "outputId": "5d174e45-6f55-427b-ce20-a8c3c35aa83b"
      },
      "cell_type": "code",
      "source": [
        "import matplotlib.pyplot as plt\n",
        "training_loss = history.history['loss']\n",
        "epoch_count = range(1, len(training_loss) + 1)\n",
        "\n",
        "plt.plot(epoch_count, training_loss, 'r--')\n",
        "plt.show();"
      ],
      "execution_count": 76,
      "outputs": [
        {
          "output_type": "display_data",
          "data": {
            "image/png": "[encoded data removed]",
            "text/plain": [
              "<Figure size 842.4x595.44 with 1 Axes>"
            ]
          },
          "metadata": {
            "tags": []
          }
        }
      ]
    },
    {
      "metadata": {
        "id": "xEFf18hwvpAA",
        "colab_type": "code",
        "colab": {
          "base_uri": "https://localhost:8080/",
          "height": 34
        },
        "outputId": "068b0b3a-abd8-4e09-89d9-1efc29f64f68"
      },
      "cell_type": "code",
      "source": [
        "X.shape,Y.shape"
      ],
      "execution_count": 90,
      "outputs": [
        {
          "output_type": "execute_result",
          "data": {
            "text/plain": [
              "((506, 13), (506,))"
            ]
          },
          "metadata": {
            "tags": []
          },
          "execution_count": 90
        }
      ]
    },
    {
      "metadata": {
        "id": "_sU9usblwNOw",
        "colab_type": "code",
        "colab": {
          "base_uri": "https://localhost:8080/",
          "height": 34
        },
        "outputId": "601db126-861e-4be6-9f37-ec579b96d962"
      },
      "cell_type": "code",
      "source": [
        "# Data preparation for Linear Regression testing.\n",
        "\n",
        "from sklearn.model_selection import train_test_split\n",
        "\n",
        "X_train, X_test, Y_train, Y_test = train_test_split(X, Y, test_size = 0.2, random_state=5)\n",
        "X_train.shape, X_test.shape, Y_train.shape, Y_test.shape"
      ],
      "execution_count": 95,
      "outputs": [
        {
          "output_type": "execute_result",
          "data": {
            "text/plain": [
              "((404, 13), (102, 13), (404,), (102,))"
            ]
          },
          "metadata": {
            "tags": []
          },
          "execution_count": 95
        }
      ]
    },
    {
      "metadata": {
        "id": "Toab2m0qtCpc",
        "colab_type": "code",
        "colab": {
          "base_uri": "https://localhost:8080/",
          "height": 34
        },
        "outputId": "576a61e6-09db-401e-cdb7-12649ec7a15c"
      },
      "cell_type": "code",
      "source": [
        "# Linear Regression for comparation.\n",
        "\n",
        "from sklearn.linear_model import LinearRegression\n",
        "from sklearn.metrics import mean_squared_error\n",
        "\n",
        "lin_model = LinearRegression()\n",
        "lin_model.fit(X_train, Y_train)\n",
        "\n",
        "y_predict = lin_model.predict(X_test)\n",
        "rmse = mean_squared_error(Y_test, y_predict)\n",
        "\n",
        "print('RMSE is {}'.format(rmse))\n"
      ],
      "execution_count": 92,
      "outputs": [
        {
          "output_type": "stream",
          "text": [
            "RMSE is 20.869292183770884\n"
          ],
          "name": "stdout"
        }
      ]
    },
    {
      "metadata": {
        "id": "ZdhVkZ2dt2S-",
        "colab_type": "code",
        "colab": {
          "base_uri": "https://localhost:8080/",
          "height": 514
        },
        "outputId": "4b66fad3-0f41-4b9d-9e7d-343be9b15db7"
      },
      "cell_type": "code",
      "source": [
        "# column 13 is the y.\n",
        "# only column 12 is highly correlated to column 13 by 0.74\n",
        "# column 10 correlated to column 13 by 0.51\n",
        "import seaborn as sns\n",
        "\n",
        "correlation_matrix = dataframe.corr().round(2)\n",
        "# annot = True to print the values inside the square\n",
        "sns.heatmap(data=correlation_matrix, annot=True)"
      ],
      "execution_count": 79,
      "outputs": [
        {
          "output_type": "execute_result",
          "data": {
            "text/plain": [
              "<matplotlib.axes._subplots.AxesSubplot at 0x7f56de692ac8>"
            ]
          },
          "metadata": {
            "tags": []
          },
          "execution_count": 79
        },
        {
          "output_type": "display_data",
          "data": {
            "image/png": "[encoded data removed]",
            "text/plain": [
              "<Figure size 842.4x595.44 with 2 Axes>"
            ]
          },
          "metadata": {
            "tags": []
          }
        }
      ]
    },
    {
      "metadata": {
        "id": "myPBfLr0upcm",
        "colab_type": "code",
        "colab": {}
      },
      "cell_type": "code",
      "source": [
        "X=dataset[:,(10,12)]\n",
        "Y=dataset[:,13]"
      ],
      "execution_count": 0,
      "outputs": []
    },
    {
      "metadata": {
        "id": "gtrLfQpAu9pu",
        "colab_type": "code",
        "colab": {
          "base_uri": "https://localhost:8080/",
          "height": 34
        },
        "outputId": "e61563cf-d1a5-4783-9e22-561afe98ca8c"
      },
      "cell_type": "code",
      "source": [
        "from sklearn.model_selection import train_test_split\n",
        "\n",
        "X_train, X_test, Y_train, Y_test = train_test_split(X, Y, test_size = 0.2, random_state=5)\n",
        "X_train.shape, X_test.shape, Y_train.shape, Y_test.shape"
      ],
      "execution_count": 97,
      "outputs": [
        {
          "output_type": "execute_result",
          "data": {
            "text/plain": [
              "((404, 2), (102, 2), (404,), (102,))"
            ]
          },
          "metadata": {
            "tags": []
          },
          "execution_count": 97
        }
      ]
    },
    {
      "metadata": {
        "id": "-ANA7YvTxKjF",
        "colab_type": "code",
        "colab": {
          "base_uri": "https://localhost:8080/",
          "height": 34
        },
        "outputId": "1201ac79-ecfd-4f22-cbe5-bff7158332b7"
      },
      "cell_type": "code",
      "source": [
        "# Linear Regression for dataset[10,12]\n",
        "\n",
        "from sklearn.linear_model import LinearRegression\n",
        "from sklearn.metrics import mean_squared_error\n",
        "\n",
        "lin_model = LinearRegression()\n",
        "lin_model.fit(X_train, Y_train)\n",
        "\n",
        "y_predict = lin_model.predict(X_test)\n",
        "rmse = mean_squared_error(Y_test, y_predict)\n",
        "\n",
        "print('RMSE is {}'.format(rmse))"
      ],
      "execution_count": 98,
      "outputs": [
        {
          "output_type": "stream",
          "text": [
            "RMSE is 35.00959639406226\n"
          ],
          "name": "stdout"
        }
      ]
    },
    {
      "metadata": {
        "id": "SfcFnOONyuNm",
        "colab_type": "text"
      },
      "cell_type": "markdown",
      "source": [
        "## Use the Keras Library to build an image recognition network using the Fashion-MNIST dataset (also comes with keras)\n",
        "\n",
        "- Load and preprocess the image data similar to how we preprocessed the MNIST data in class.\n",
        "- Make sure to one-hot encode your category labels\n",
        "- Make sure to have your final layer have as many nodes as the number of classes that you want to predict.\n",
        "- Try different hyperparameters. What is the highest accuracy that you are able to achieve.\n",
        "- Use the history object that is returned from model.fit to make graphs of the model's loss or train/validation accuracies by epoch. \n",
        "- Remember that neural networks fall prey to randomness so you may need to run your model multiple times (or use Cross Validation) in order to tell if a change to a hyperparameter is truly producing better results."
      ]
    },
    {
      "metadata": {
        "id": "szi6-IpuzaH1",
        "colab_type": "code",
        "colab": {}
      },
      "cell_type": "code",
      "source": [
        "import keras\n",
        "from keras.datasets import mnist\n",
        "from keras.models import Sequential\n",
        "from keras.layers import Dense, Dropout\n",
        "import numpy as np"
      ],
      "execution_count": 0,
      "outputs": []
    },
    {
      "metadata": {
        "id": "duOjY0JyydVi",
        "colab_type": "code",
        "colab": {
          "base_uri": "https://localhost:8080/",
          "height": 86
        },
        "outputId": "e9301e6e-bae7-4fa9-c6e9-882cd7d1da62"
      },
      "cell_type": "code",
      "source": [
        "# global hyperparameters\n",
        "\n",
        "batch_size = 64\n",
        "num_classes = 10\n",
        "epochs = 20\n",
        "\n",
        "(x_train, y_train), (x_test, y_test) = mnist.load_data()\n",
        "\n",
        "# Flatten the images\n",
        "x_train = x_train.reshape(60000, 784)\n",
        "x_test = x_test.reshape(10000, 784)\n",
        "\n",
        "x_train = x_train.astype('float32')\n",
        "x_test = x_test.astype('float32')\n",
        "\n",
        "y_train = keras.utils.to_categorical(y_train, num_classes)\n",
        "y_test = keras.utils.to_categorical(y_test, num_classes)\n",
        "\n",
        "x_train /= 255\n",
        "x_test /= 255\n",
        "\n",
        "print(x_train.shape[0], 'train samples')\n",
        "print(x_test.shape[0], 'test samples')"
      ],
      "execution_count": 100,
      "outputs": [
        {
          "output_type": "stream",
          "text": [
            "Downloading data from https://s3.amazonaws.com/img-datasets/mnist.npz\n",
            "11493376/11490434 [==============================] - 0s 0us/step\n",
            "60000 train samples\n",
            "10000 test samples\n"
          ],
          "name": "stdout"
        }
      ]
    },
    {
      "metadata": {
        "id": "99sxVTlvy5zL",
        "colab_type": "code",
        "colab": {
          "base_uri": "https://localhost:8080/",
          "height": 308
        },
        "outputId": "a4697d1f-f875-4942-bba7-d93578d2e85f"
      },
      "cell_type": "code",
      "source": [
        "model = Sequential()\n",
        "model.add(Dense(16, activation='relu', input_shape=(784,)))\n",
        "model.add(Dropout(0.1))\n",
        "model.add(Dense(16, activation='relu'))\n",
        "model.add(Dropout(0.1))\n",
        "model.add(Dense(num_classes, activation='softmax'))\n",
        "model.compile(loss='mean_squared_error', optimizer='adam')\n",
        "model.summary()"
      ],
      "execution_count": 105,
      "outputs": [
        {
          "output_type": "stream",
          "text": [
            "_________________________________________________________________\n",
            "Layer (type)                 Output Shape              Param #   \n",
            "=================================================================\n",
            "dense_172 (Dense)            (None, 16)                12560     \n",
            "_________________________________________________________________\n",
            "dropout_5 (Dropout)          (None, 16)                0         \n",
            "_________________________________________________________________\n",
            "dense_173 (Dense)            (None, 16)                272       \n",
            "_________________________________________________________________\n",
            "dropout_6 (Dropout)          (None, 16)                0         \n",
            "_________________________________________________________________\n",
            "dense_174 (Dense)            (None, 10)                170       \n",
            "=================================================================\n",
            "Total params: 13,002\n",
            "Trainable params: 13,002\n",
            "Non-trainable params: 0\n",
            "_________________________________________________________________\n"
          ],
          "name": "stdout"
        }
      ]
    },
    {
      "metadata": {
        "id": "qAzgBpp1zJXB",
        "colab_type": "code",
        "colab": {
          "base_uri": "https://localhost:8080/",
          "height": 720
        },
        "outputId": "7ba8b79a-16ae-4b11-9a2d-e032381260c6"
      },
      "cell_type": "code",
      "source": [
        "\n",
        "\n",
        "history = model.fit(x_train, y_train, epochs=epochs, validation_split=.1)\n",
        "#scores = model.evaluate(x_test,y_test)\n",
        "#print(f'{model.metrics_names[1]}: {scores[1]*100}')"
      ],
      "execution_count": 118,
      "outputs": [
        {
          "output_type": "stream",
          "text": [
            "Train on 54000 samples, validate on 6000 samples\n",
            "Epoch 1/20\n",
            "54000/54000 [==============================] - 5s 102us/step - loss: 0.0114 - val_loss: 0.0071\n",
            "Epoch 2/20\n",
            "54000/54000 [==============================] - 5s 91us/step - loss: 0.0114 - val_loss: 0.0063\n",
            "Epoch 3/20\n",
            "54000/54000 [==============================] - 5s 92us/step - loss: 0.0112 - val_loss: 0.0070\n",
            "Epoch 4/20\n",
            "54000/54000 [==============================] - 5s 96us/step - loss: 0.0114 - val_loss: 0.0066\n",
            "Epoch 5/20\n",
            "54000/54000 [==============================] - 5s 97us/step - loss: 0.0112 - val_loss: 0.0066\n",
            "Epoch 6/20\n",
            "54000/54000 [==============================] - 5s 98us/step - loss: 0.0111 - val_loss: 0.0066\n",
            "Epoch 7/20\n",
            "54000/54000 [==============================] - 5s 98us/step - loss: 0.0109 - val_loss: 0.0066\n",
            "Epoch 8/20\n",
            "54000/54000 [==============================] - 5s 96us/step - loss: 0.0108 - val_loss: 0.0065\n",
            "Epoch 9/20\n",
            "54000/54000 [==============================] - 5s 97us/step - loss: 0.0108 - val_loss: 0.0070\n",
            "Epoch 10/20\n",
            "54000/54000 [==============================] - 5s 100us/step - loss: 0.0109 - val_loss: 0.0069\n",
            "Epoch 11/20\n",
            "54000/54000 [==============================] - 5s 101us/step - loss: 0.0106 - val_loss: 0.0068\n",
            "Epoch 12/20\n",
            "54000/54000 [==============================] - 5s 96us/step - loss: 0.0106 - val_loss: 0.0072\n",
            "Epoch 13/20\n",
            "54000/54000 [==============================] - 5s 95us/step - loss: 0.0104 - val_loss: 0.0067\n",
            "Epoch 14/20\n",
            "54000/54000 [==============================] - 5s 92us/step - loss: 0.0105 - val_loss: 0.0068\n",
            "Epoch 15/20\n",
            "54000/54000 [==============================] - 5s 92us/step - loss: 0.0105 - val_loss: 0.0066\n",
            "Epoch 16/20\n",
            "54000/54000 [==============================] - 5s 90us/step - loss: 0.0104 - val_loss: 0.0065\n",
            "Epoch 17/20\n",
            "54000/54000 [==============================] - 5s 96us/step - loss: 0.0103 - val_loss: 0.0065\n",
            "Epoch 18/20\n",
            "54000/54000 [==============================] - 5s 96us/step - loss: 0.0104 - val_loss: 0.0066\n",
            "Epoch 19/20\n",
            "54000/54000 [==============================] - 5s 91us/step - loss: 0.0104 - val_loss: 0.0069\n",
            "Epoch 20/20\n",
            "54000/54000 [==============================] - 5s 92us/step - loss: 0.0105 - val_loss: 0.0069\n"
          ],
          "name": "stdout"
        }
      ]
    },
    {
      "metadata": {
        "id": "7xfLMgFV1IdZ",
        "colab_type": "code",
        "colab": {
          "base_uri": "https://localhost:8080/",
          "height": 51
        },
        "outputId": "06890f7f-589d-4280-f4d4-2d5eb96090ce"
      },
      "cell_type": "code",
      "source": [
        "loss_score = model.evaluate(x_test,y_test)\n",
        "loss_mean = np.mean(history.history['loss'])\n",
        "val_loss_mean = np.mean(history.history['val_loss'])\n",
        "print(f'Loss score={loss_scores}, train Loss mean={loss_mean}, test Loss mean={val_loss_mean}')\n"
      ],
      "execution_count": 122,
      "outputs": [
        {
          "output_type": "stream",
          "text": [
            "10000/10000 [==============================] - 1s 70us/step\n",
            "Loss score=0.008145789729373791, train Loss mean=0.010779303380560466, test Loss mean=0.006746596823760229\n"
          ],
          "name": "stdout"
        }
      ]
    },
    {
      "metadata": {
        "id": "zv_3xNMjzdLI",
        "colab_type": "text"
      },
      "cell_type": "markdown",
      "source": [
        "## Stretch Goals:\n",
        "\n",
        "- Use Hyperparameter Tuning to make the accuracy of your models as high as possible. (error as low as possible)\n",
        "- Use Cross Validation techniques to get more consistent results with your model.\n",
        "- Use GridSearchCV to try different combinations of hyperparameters. \n",
        "- Start looking into other types of Keras layers for CNNs and RNNs maybe try and build a CNN model for fashion-MNIST to see how the results compare."
      ]
    }
  ]
}